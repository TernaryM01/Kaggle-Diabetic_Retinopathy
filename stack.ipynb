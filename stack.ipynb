{
 "cells": [
  {
   "cell_type": "code",
   "execution_count": null,
   "id": "a01b7cd5",
   "metadata": {},
   "outputs": [],
   "source": [
    "# import pandas as pd\n",
    "\n",
    "# # df_stack = pd.read_csv('df_stack.csv')\n",
    "# df_stack2 = pd.read_csv('df_stack2.csv')\n",
    "# # df_val = pd.read_csv('df_val.csv')\n",
    "# # df_stack['img_dir'] = df_val['img_dir']\n",
    "\n",
    "# num_classes = int(df_stack2['label'].max() + 1)"
   ]
  },
  {
   "cell_type": "code",
   "execution_count": 1,
   "id": "91efc912",
   "metadata": {},
   "outputs": [],
   "source": [
    "import pandas as pd\n",
    "\n",
    "df_stack21 = pd.read_csv('df_stack_train2_dyn1.csv')\n",
    "\n",
    "num_classes = int(df_stack21['label'].max() + 1)"
   ]
  },
  {
   "cell_type": "code",
   "execution_count": null,
   "id": "66f8a0c5",
   "metadata": {},
   "outputs": [],
   "source": [
    "# df_stack1 = df_stack[df_stack['img_dir'].str.contains('aptos')]\n",
    "# df_stack2 = df_stack[df_stack['img_dir'].str.contains('diabetic-retinopathy-detection')]"
   ]
  },
  {
   "cell_type": "code",
   "execution_count": 5,
   "id": "5e53f8f6",
   "metadata": {},
   "outputs": [],
   "source": [
    "# from sklearn.model_selection import StratifiedKFold\n",
    "\n",
    "# # Create an empty column to store fold assignments\n",
    "# df_stack1['fold'] = -1\n",
    "\n",
    "# # Initialize StratifiedKFold\n",
    "# skf = StratifiedKFold(n_splits=5, shuffle=True, random_state=42)\n",
    "\n",
    "# # Assign fold numbers\n",
    "# for fold, (train_idx, val_idx) in enumerate(skf.split(df_stack1, df_stack1['label'])):\n",
    "#     df_stack1.loc[val_idx, 'fold'] = fold"
   ]
  },
  {
   "cell_type": "code",
   "execution_count": null,
   "id": "fa05b761",
   "metadata": {},
   "outputs": [
    {
     "name": "stderr",
     "output_type": "stream",
     "text": [
      "/tmp/ipykernel_30639/1524155189.py:1: SettingWithCopyWarning: \n",
      "A value is trying to be set on a copy of a slice from a DataFrame.\n",
      "Try using .loc[row_indexer,col_indexer] = value instead\n",
      "\n",
      "See the caveats in the documentation: https://pandas.pydata.org/pandas-docs/stable/user_guide/indexing.html#returning-a-view-versus-a-copy\n",
      "  df_stack2['group'] = df_stack2['img_dir'].str.slice(start=47, stop=-5).str.split('_').str[0]\n",
      "/tmp/ipykernel_30639/1524155189.py:2: SettingWithCopyWarning: \n",
      "A value is trying to be set on a copy of a slice from a DataFrame\n",
      "\n",
      "See the caveats in the documentation: https://pandas.pydata.org/pandas-docs/stable/user_guide/indexing.html#returning-a-view-versus-a-copy\n",
      "  df_stack2.drop(columns=['img_dir'], inplace=True)\n"
     ]
    }
   ],
   "source": [
    "# df_stack2['group'] = df_stack2['img_dir'].str.slice(start=47, stop=-5).str.split('_').str[0]\n",
    "# df_stack2.drop(columns=['img_dir'], inplace=True)"
   ]
  },
  {
   "cell_type": "code",
   "execution_count": null,
   "id": "cc69310c",
   "metadata": {},
   "outputs": [],
   "source": [
    "# feature_cols = [col for col in df_stack2.columns if col not in ['group', 'label']]\n",
    "\n",
    "# # Group by 'group' (pairs of rows)\n",
    "# grouped = df_stack2.groupby('group', sort=False)\n",
    "\n",
    "# rows = []\n",
    "# for patient_id, group in grouped:\n",
    "#     left = group.iloc[0]\n",
    "#     right = group.iloc[1]\n",
    "\n",
    "#     row_base = {\n",
    "#         'group': patient_id  # preserve group ID\n",
    "#     }\n",
    "\n",
    "#     for col in feature_cols:\n",
    "#         row_base[f\"{col}_L\"] = left[col]\n",
    "#         row_base[f\"{col}_R\"] = right[col]\n",
    "\n",
    "#     rows.append({**row_base, 'L': True,  'label': left['label']})\n",
    "#     rows.append({**row_base, 'L': False, 'label': right['label']})\n",
    "\n",
    "# # Final DataFrame\n",
    "# df_stack2_paired = pd.DataFrame(rows)"
   ]
  },
  {
   "cell_type": "code",
   "execution_count": 2,
   "id": "e561244d",
   "metadata": {},
   "outputs": [],
   "source": [
    "feature_cols = [col for col in df_stack2.columns if col not in ['group', 'label']]\n",
    "\n",
    "# Group by 'group' (pairs of rows)\n",
    "grouped = df_stack2.groupby('group', sort=False)\n",
    "\n",
    "rows = []\n",
    "for patient_id, group in grouped:\n",
    "    left = group.iloc[0]\n",
    "    right = group.iloc[1]\n",
    "\n",
    "    # First row: left is the focus (X), right is the other (O)\n",
    "    row_1 = {'group': patient_id, 'label': left['label']}\n",
    "    for col in feature_cols:\n",
    "        row_1[f'{col}_X'] = left[col]\n",
    "        row_1[f'{col}_O'] = right[col]\n",
    "    rows.append(row_1)\n",
    "\n",
    "    # Second row: right is the focus (X), left is the other (O)\n",
    "    row_2 = {'group': patient_id, 'label': right['label']}\n",
    "    for col in feature_cols:\n",
    "        row_2[f'{col}_X'] = right[col]\n",
    "        row_2[f'{col}_O'] = left[col]\n",
    "    rows.append(row_2)\n",
    "\n",
    "# Final DataFrame\n",
    "df_stack2_paired = pd.DataFrame(rows)"
   ]
  },
  {
   "cell_type": "code",
   "execution_count": 3,
   "id": "556c9a9c",
   "metadata": {},
   "outputs": [
    {
     "name": "stderr",
     "output_type": "stream",
     "text": [
      "/tmp/ipykernel_10706/294473013.py:12: SettingWithCopyWarning: \n",
      "A value is trying to be set on a copy of a slice from a DataFrame\n",
      "\n",
      "See the caveats in the documentation: https://pandas.pydata.org/pandas-docs/stable/user_guide/indexing.html#returning-a-view-versus-a-copy\n",
      "  df_stack2_paired['fold'].iloc[val_idx] = fold\n",
      "/tmp/ipykernel_10706/294473013.py:12: SettingWithCopyWarning: \n",
      "A value is trying to be set on a copy of a slice from a DataFrame\n",
      "\n",
      "See the caveats in the documentation: https://pandas.pydata.org/pandas-docs/stable/user_guide/indexing.html#returning-a-view-versus-a-copy\n",
      "  df_stack2_paired['fold'].iloc[val_idx] = fold\n",
      "/tmp/ipykernel_10706/294473013.py:12: SettingWithCopyWarning: \n",
      "A value is trying to be set on a copy of a slice from a DataFrame\n",
      "\n",
      "See the caveats in the documentation: https://pandas.pydata.org/pandas-docs/stable/user_guide/indexing.html#returning-a-view-versus-a-copy\n",
      "  df_stack2_paired['fold'].iloc[val_idx] = fold\n",
      "/tmp/ipykernel_10706/294473013.py:12: SettingWithCopyWarning: \n",
      "A value is trying to be set on a copy of a slice from a DataFrame\n",
      "\n",
      "See the caveats in the documentation: https://pandas.pydata.org/pandas-docs/stable/user_guide/indexing.html#returning-a-view-versus-a-copy\n",
      "  df_stack2_paired['fold'].iloc[val_idx] = fold\n",
      "/tmp/ipykernel_10706/294473013.py:12: SettingWithCopyWarning: \n",
      "A value is trying to be set on a copy of a slice from a DataFrame\n",
      "\n",
      "See the caveats in the documentation: https://pandas.pydata.org/pandas-docs/stable/user_guide/indexing.html#returning-a-view-versus-a-copy\n",
      "  df_stack2_paired['fold'].iloc[val_idx] = fold\n"
     ]
    }
   ],
   "source": [
    "from sklearn.model_selection import StratifiedGroupKFold\n",
    "\n",
    "# Create an empty column to store fold assignments\n",
    "df_stack2_paired['fold'] = -1\n",
    "\n",
    "# Initialize StratifiedKFold\n",
    "sgkf = StratifiedGroupKFold(n_splits=5, shuffle=True, random_state=42)\n",
    "\n",
    "# Assign fold numbers\n",
    "for fold, (train_idx, val_idx) in enumerate(sgkf.split(X=df_stack2_paired, y=df_stack2_paired['label'],\n",
    "                                                       groups=df_stack2_paired['group'])):\n",
    "    df_stack2_paired['fold'].iloc[val_idx] = fold\n",
    "\n",
    "# df_stack2_paired.drop(columns=['group'], inplace=True)"
   ]
  },
  {
   "cell_type": "code",
   "execution_count": 6,
   "id": "e1ab258b",
   "metadata": {},
   "outputs": [
    {
     "name": "stderr",
     "output_type": "stream",
     "text": [
      "/tmp/ipykernel_6482/3002031030.py:11: SettingWithCopyWarning: \n",
      "A value is trying to be set on a copy of a slice from a DataFrame\n",
      "\n",
      "See the caveats in the documentation: https://pandas.pydata.org/pandas-docs/stable/user_guide/indexing.html#returning-a-view-versus-a-copy\n",
      "  df_stack21['fold'].iloc[val_idx] = fold\n",
      "/tmp/ipykernel_6482/3002031030.py:11: SettingWithCopyWarning: \n",
      "A value is trying to be set on a copy of a slice from a DataFrame\n",
      "\n",
      "See the caveats in the documentation: https://pandas.pydata.org/pandas-docs/stable/user_guide/indexing.html#returning-a-view-versus-a-copy\n",
      "  df_stack21['fold'].iloc[val_idx] = fold\n",
      "/tmp/ipykernel_6482/3002031030.py:11: SettingWithCopyWarning: \n",
      "A value is trying to be set on a copy of a slice from a DataFrame\n",
      "\n",
      "See the caveats in the documentation: https://pandas.pydata.org/pandas-docs/stable/user_guide/indexing.html#returning-a-view-versus-a-copy\n",
      "  df_stack21['fold'].iloc[val_idx] = fold\n",
      "/tmp/ipykernel_6482/3002031030.py:11: SettingWithCopyWarning: \n",
      "A value is trying to be set on a copy of a slice from a DataFrame\n",
      "\n",
      "See the caveats in the documentation: https://pandas.pydata.org/pandas-docs/stable/user_guide/indexing.html#returning-a-view-versus-a-copy\n",
      "  df_stack21['fold'].iloc[val_idx] = fold\n",
      "/tmp/ipykernel_6482/3002031030.py:11: SettingWithCopyWarning: \n",
      "A value is trying to be set on a copy of a slice from a DataFrame\n",
      "\n",
      "See the caveats in the documentation: https://pandas.pydata.org/pandas-docs/stable/user_guide/indexing.html#returning-a-view-versus-a-copy\n",
      "  df_stack21['fold'].iloc[val_idx] = fold\n"
     ]
    }
   ],
   "source": [
    "from sklearn.model_selection import StratifiedKFold\n",
    "\n",
    "# Create an empty column to store fold assignments\n",
    "df_stack21['fold'] = -1\n",
    "\n",
    "# Initialize StratifiedKFold\n",
    "skf = StratifiedKFold(n_splits=5, shuffle=True, random_state=42)\n",
    "\n",
    "# Assign fold numbers\n",
    "for fold, (train_idx, val_idx) in enumerate(skf.split(X=df_stack21, y=df_stack21['label'])):\n",
    "    df_stack21['fold'].iloc[val_idx] = fold"
   ]
  },
  {
   "cell_type": "code",
   "execution_count": null,
   "id": "3149a386",
   "metadata": {},
   "outputs": [],
   "source": [
    "# df_stack2_paired.to_csv('df_stack2_paired.csv', index=False)\n",
    "df_stack2_paired.to_csv('df_stack2_paired_alt2.csv', index=False)"
   ]
  },
  {
   "cell_type": "markdown",
   "id": "fa3cac2d",
   "metadata": {},
   "source": [
    "==============================================="
   ]
  },
  {
   "cell_type": "code",
   "execution_count": 2,
   "id": "e5fd3169",
   "metadata": {},
   "outputs": [],
   "source": [
    "import numpy as np\n",
    "import pandas as pd\n",
    "from tqdm.notebook import tqdm\n",
    "from sklearn.model_selection import KFold\n",
    "from sklearn.metrics import cohen_kappa_score\n",
    "\n",
    "import lightgbm as lgb\n",
    "from lightgbm import LGBMRegressor\n",
    "import xgboost as xgb\n",
    "from xgboost import XGBRegressor\n",
    "from catboost import CatBoostRegressor\n",
    "from tabpfn import TabPFNRegressor\n",
    "\n",
    "import joblib"
   ]
  },
  {
   "cell_type": "code",
   "execution_count": null,
   "id": "da6d0c55",
   "metadata": {},
   "outputs": [],
   "source": [
    "# df_stack = pd.read_csv('df_stack2_paired.csv')\n",
    "# df_stack.drop(columns=['group'], inplace=True)\n",
    "df_stack_alt = pd.read_csv('df_stack2_paired_alt2.csv')\n",
    "# df_stack_alt.drop(columns=['group'], inplace=True)\n",
    "df_stack_alt['label'] = df_stack_alt['label'].astype('int')\n",
    "# df_stack_unpaired = df_stack_alt[[col for col in df_stack_alt.columns if not col.endswith('_O')]]\n",
    "num_classes = int(df_stack_alt['label'].max() + 1)"
   ]
  },
  {
   "cell_type": "code",
   "execution_count": null,
   "id": "6932f5c0",
   "metadata": {},
   "outputs": [
    {
     "data": {
      "text/plain": [
       "Index(['group', 'label', 'convnext_0_X', 'convnext_1_X', 'convnext_2_X',\n",
       "       'convnext_3_X', 'convnext_4_X', 'convnext-r_pred_X', 'effnet_0_X',\n",
       "       'effnet_1_X', 'effnet_2_X', 'effnet_3_X', 'effnet_4_X', 'effnet-p_0_X',\n",
       "       'effnet-p_1_X', 'effnet-p_2_X', 'effnet-p_3_X', 'effnet-p_4_X',\n",
       "       'effnet-o_0_X', 'effnet-o_1_X', 'effnet-o_2_X', 'effnet-o_3_X',\n",
       "       'resnet_0_X', 'resnet_1_X', 'resnet_2_X', 'resnet_3_X', 'resnet_4_X',\n",
       "       'resnet-n_0_X', 'resnet-n_1_X', 'resnet-n_2_X', 'resnet-n_3_X',\n",
       "       'resnet-n_4_X', 'resnet-r_pred_X', 'fold'],\n",
       "      dtype='object')"
      ]
     },
     "execution_count": 2,
     "metadata": {},
     "output_type": "execute_result"
    }
   ],
   "source": [
    "# df_stack_unpaired.columns"
   ]
  },
  {
   "cell_type": "code",
   "execution_count": 2,
   "id": "233af5eb",
   "metadata": {},
   "outputs": [
    {
     "data": {
      "text/plain": [
       "Index(['group', 'label', 'convnext_0_X', 'convnext_0_O', 'convnext_1_X',\n",
       "       'convnext_1_O', 'convnext_2_X', 'convnext_2_O', 'convnext_3_X',\n",
       "       'convnext_3_O', 'convnext_4_X', 'convnext_4_O', 'convnext-r_pred_X',\n",
       "       'convnext-r_pred_O', 'effnet_0_X', 'effnet_0_O', 'effnet_1_X',\n",
       "       'effnet_1_O', 'effnet_2_X', 'effnet_2_O', 'effnet_3_X', 'effnet_3_O',\n",
       "       'effnet_4_X', 'effnet_4_O', 'effnet-p_0_X', 'effnet-p_0_O',\n",
       "       'effnet-p_1_X', 'effnet-p_1_O', 'effnet-p_2_X', 'effnet-p_2_O',\n",
       "       'effnet-p_3_X', 'effnet-p_3_O', 'effnet-p_4_X', 'effnet-p_4_O',\n",
       "       'effnet-o_0_X', 'effnet-o_0_O', 'effnet-o_1_X', 'effnet-o_1_O',\n",
       "       'effnet-o_2_X', 'effnet-o_2_O', 'effnet-o_3_X', 'effnet-o_3_O',\n",
       "       'resnet_0_X', 'resnet_0_O', 'resnet_1_X', 'resnet_1_O', 'resnet_2_X',\n",
       "       'resnet_2_O', 'resnet_3_X', 'resnet_3_O', 'resnet_4_X', 'resnet_4_O',\n",
       "       'resnet-r_pred_X', 'resnet-r_pred_O', 'fold'],\n",
       "      dtype='object')"
      ]
     },
     "execution_count": 2,
     "metadata": {},
     "output_type": "execute_result"
    }
   ],
   "source": [
    "df_stack_alt.columns"
   ]
  },
  {
   "cell_type": "code",
   "execution_count": 3,
   "id": "5ee9fc72",
   "metadata": {},
   "outputs": [],
   "source": [
    "import copy\n",
    "import torch\n",
    "\n",
    "# def cv_score(feature_columns, model_, kf, num_classes=5, fit_kwargs={}):\n",
    "def cv_score(feature_columns, model_, df, num_classes=5,\n",
    "             fit_kwargs={}, no_eval=False):\n",
    "    torch.cuda.empty_cache()\n",
    "\n",
    "    qwk_scores = []\n",
    "    models_trained = []\n",
    "    \n",
    "    # for fold, (tr_idx, te_idx) in enumerate(kf.split(df), 1):\n",
    "    for fold in sorted(df['fold'].unique()):\n",
    "        tr_idx = df[df['fold'] != fold].index\n",
    "        te_idx = df[df['fold'] == fold].index\n",
    "\n",
    "        X_tr = df.iloc[tr_idx][feature_columns]\n",
    "        y_tr = df.iloc[tr_idx]['label']\n",
    "        X_te = df.iloc[te_idx][feature_columns]\n",
    "        y_te = df.iloc[te_idx]['label']\n",
    "\n",
    "        model = copy.deepcopy(model_)\n",
    "        if no_eval:\n",
    "            model.fit(X_tr, y_tr, **fit_kwargs)\n",
    "        else:\n",
    "            model.fit(X_tr, y_tr, eval_set=[(X_te, y_te)], **fit_kwargs)\n",
    "\n",
    "        preds = model.predict(X_te)\n",
    "        preds_int = np.clip(np.rint(preds), 0, num_classes-1).astype(int)\n",
    "        qwk = cohen_kappa_score(y_te, preds_int, weights='quadratic')\n",
    "        \n",
    "        qwk_scores.append(qwk)\n",
    "        models_trained.append(copy.deepcopy(model))\n",
    "        del model\n",
    "\n",
    "    return float(np.mean(qwk_scores)), models_trained"
   ]
  },
  {
   "cell_type": "code",
   "execution_count": 4,
   "id": "55e964ca",
   "metadata": {},
   "outputs": [],
   "source": [
    "def train_stack_with_feature_selection(stacking_model, df_stack, save_to=None,\n",
    "                                       fit_kwargs={}, no_eval=False):\n",
    "    # Identify models by splitting on '_'\n",
    "    feature_cols = [c for c in df_stack.columns if c not in ['label', 'group', 'fold']]\n",
    "    models = sorted({c.split('_')[0] for c in feature_cols if '_' in c})\n",
    "\n",
    "    # Map each model name → list of its feature columns\n",
    "    features_by_model = {\n",
    "        m: [c for c in feature_cols if c.startswith(m + '_')]\n",
    "        for m in models\n",
    "    }\n",
    "\n",
    "    # kf = KFold(n_splits=5, shuffle=True, random_state=42)\n",
    "\n",
    "    # stacking_model = LGBMRegressor(verbose=0)\n",
    "\n",
    "    # --- Baseline\n",
    "    print(\"▶ Running baseline 5-fold CV on all features …\")\n",
    "    # base_mean, base_models = cv_score(feature_cols, stacking_model, kf, num_classes)\n",
    "    base_mean, base_models = cv_score(feature_cols, stacking_model, df_stack, num_classes,\n",
    "                                      fit_kwargs, no_eval)\n",
    "    print(f\"Baseline mean QWK: {base_mean:.4f}\\n\")\n",
    "\n",
    "    current_models = models.copy()\n",
    "    current_features = feature_cols.copy()\n",
    "    best_mean = base_mean\n",
    "\n",
    "    # --- Backward elimination\n",
    "    while len(current_models) > 1:\n",
    "        print(\"▶ Testing removal of each model …\")\n",
    "        removal_results = {}\n",
    "        \n",
    "        for m in tqdm(current_models, desc=\"Models\"):\n",
    "            # drop m’s features\n",
    "            feat = [c for c in current_features if not c.startswith(m + '_')]\n",
    "            # mean_qwk, _ = cv_score(feat, stacking_model, kf, num_classes)\n",
    "            mean_qwk, _ = cv_score(feat, stacking_model, df_stack, num_classes,\n",
    "                                   fit_kwargs, no_eval)\n",
    "            removal_results[m] = mean_qwk\n",
    "            print(f\"  Removing {m:12} → mean QWK = {mean_qwk:.4f}\")\n",
    "\n",
    "        # find best improvement\n",
    "        worst_model, candidate_qwk = max(removal_results.items(), key=lambda kv: kv[1])\n",
    "        if candidate_qwk > best_mean:\n",
    "            print(f\"\\n✔ Eliminating model '{worst_model}' improved QWK: {best_mean:.4f} → {candidate_qwk:.4f}\\n\")\n",
    "            # update state\n",
    "            best_mean = candidate_qwk\n",
    "            current_models.remove(worst_model)\n",
    "            current_features = [c for c in current_features if not c.startswith(worst_model + '_')]\n",
    "        else:\n",
    "            print(\"\\n— No single-model removal improved QWK. Elimination complete.\\n\")\n",
    "            break\n",
    "\n",
    "    # --- Final training on selected features\n",
    "    print(\"▶ Training final 5-fold models on features from:\", current_models)\n",
    "    # final_mean, final_models = cv_score(current_features, stacking_model, kf, num_classes)\n",
    "    final_mean, final_models = cv_score(current_features, stacking_model, df_stack, num_classes,\n",
    "                                        fit_kwargs, no_eval)\n",
    "    print(f\"Final mean QWK: {final_mean:.4f}\\n\")\n",
    "\n",
    "    # --- Save each model\n",
    "    if save_to:\n",
    "        for i, mdl in enumerate(final_models, 1):\n",
    "            path = save_to + f\"-fold{i}.pkl\"\n",
    "            joblib.dump(mdl, path)\n",
    "            print(f\"✔ Saved fold {i} model to '{path}'\")"
   ]
  },
  {
   "cell_type": "markdown",
   "id": "fa1f22e3",
   "metadata": {},
   "source": [
    "## 2015"
   ]
  },
  {
   "cell_type": "code",
   "execution_count": 5,
   "id": "1f89ee4f",
   "metadata": {},
   "outputs": [
    {
     "name": "stdout",
     "output_type": "stream",
     "text": [
      "▶ Running baseline 5-fold CV on all features …\n",
      "Baseline mean QWK: 0.8477\n",
      "\n",
      "▶ Testing removal of each model …\n"
     ]
    },
    {
     "data": {
      "application/vnd.jupyter.widget-view+json": {
       "model_id": "71c4ecaa3506469a9bd0b607ce273b9e",
       "version_major": 2,
       "version_minor": 0
      },
      "text/plain": [
       "Models:   0%|          | 0/7 [00:00<?, ?it/s]"
      ]
     },
     "metadata": {},
     "output_type": "display_data"
    },
    {
     "name": "stdout",
     "output_type": "stream",
     "text": [
      "  Removing convnext     → mean QWK = 0.8464\n",
      "  Removing convnext-r   → mean QWK = 0.8452\n",
      "  Removing effnet       → mean QWK = 0.8485\n",
      "  Removing effnet-o     → mean QWK = 0.8483\n",
      "  Removing effnet-p     → mean QWK = 0.8499\n",
      "  Removing resnet       → mean QWK = 0.8450\n",
      "  Removing resnet-r     → mean QWK = 0.8492\n",
      "\n",
      "✔ Eliminating model 'effnet-p' improved QWK: 0.8477 → 0.8499\n",
      "\n",
      "▶ Testing removal of each model …\n"
     ]
    },
    {
     "data": {
      "application/vnd.jupyter.widget-view+json": {
       "model_id": "347866ee9245455bb7de3c9f525e7dd3",
       "version_major": 2,
       "version_minor": 0
      },
      "text/plain": [
       "Models:   0%|          | 0/6 [00:00<?, ?it/s]"
      ]
     },
     "metadata": {},
     "output_type": "display_data"
    },
    {
     "name": "stdout",
     "output_type": "stream",
     "text": [
      "  Removing convnext     → mean QWK = 0.8486\n",
      "  Removing convnext-r   → mean QWK = 0.8426\n",
      "  Removing effnet       → mean QWK = 0.8475\n",
      "  Removing effnet-o     → mean QWK = 0.8506\n",
      "  Removing resnet       → mean QWK = 0.8475\n",
      "  Removing resnet-r     → mean QWK = 0.8492\n",
      "\n",
      "✔ Eliminating model 'effnet-o' improved QWK: 0.8499 → 0.8506\n",
      "\n",
      "▶ Testing removal of each model …\n"
     ]
    },
    {
     "data": {
      "application/vnd.jupyter.widget-view+json": {
       "model_id": "08be9e8408344e6198770ba32383ebbf",
       "version_major": 2,
       "version_minor": 0
      },
      "text/plain": [
       "Models:   0%|          | 0/5 [00:00<?, ?it/s]"
      ]
     },
     "metadata": {},
     "output_type": "display_data"
    },
    {
     "name": "stdout",
     "output_type": "stream",
     "text": [
      "  Removing convnext     → mean QWK = 0.8478\n",
      "  Removing convnext-r   → mean QWK = 0.8441\n",
      "  Removing effnet       → mean QWK = 0.8494\n",
      "  Removing resnet       → mean QWK = 0.8470\n",
      "  Removing resnet-r     → mean QWK = 0.8519\n",
      "\n",
      "✔ Eliminating model 'resnet-r' improved QWK: 0.8506 → 0.8519\n",
      "\n",
      "▶ Testing removal of each model …\n"
     ]
    },
    {
     "data": {
      "application/vnd.jupyter.widget-view+json": {
       "model_id": "ec307a2a066d49f68eb4712291c7588b",
       "version_major": 2,
       "version_minor": 0
      },
      "text/plain": [
       "Models:   0%|          | 0/4 [00:00<?, ?it/s]"
      ]
     },
     "metadata": {},
     "output_type": "display_data"
    },
    {
     "name": "stdout",
     "output_type": "stream",
     "text": [
      "  Removing convnext     → mean QWK = 0.8466\n",
      "  Removing convnext-r   → mean QWK = 0.8452\n",
      "  Removing effnet       → mean QWK = 0.8458\n",
      "  Removing resnet       → mean QWK = 0.8491\n",
      "\n",
      "— No single-model removal improved QWK. Elimination complete.\n",
      "\n",
      "▶ Training final 5-fold models on features from: ['convnext', 'convnext-r', 'effnet', 'resnet']\n",
      "Final mean QWK: 0.8519\n",
      "\n"
     ]
    }
   ],
   "source": [
    "stacking_model = LGBMRegressor(verbose=0)\n",
    "train_stack_with_feature_selection(stacking_model, df_stack_alt)"
   ]
  },
  {
   "cell_type": "code",
   "execution_count": 12,
   "id": "7ae22b48",
   "metadata": {},
   "outputs": [
    {
     "name": "stdout",
     "output_type": "stream",
     "text": [
      "▶ Running baseline 5-fold CV on all features …\n",
      "Baseline mean QWK: 0.8131\n",
      "\n",
      "▶ Testing removal of each model …\n"
     ]
    },
    {
     "data": {
      "application/vnd.jupyter.widget-view+json": {
       "model_id": "f1987804ff794c958ddfeb257c5cd420",
       "version_major": 2,
       "version_minor": 0
      },
      "text/plain": [
       "Models:   0%|          | 0/8 [00:00<?, ?it/s]"
      ]
     },
     "metadata": {},
     "output_type": "display_data"
    },
    {
     "name": "stdout",
     "output_type": "stream",
     "text": [
      "  Removing convnext     → mean QWK = 0.8069\n",
      "  Removing convnext-r   → mean QWK = 0.8094\n",
      "  Removing effnet       → mean QWK = 0.8067\n",
      "  Removing effnet-o     → mean QWK = 0.8089\n",
      "  Removing effnet-p     → mean QWK = 0.8059\n",
      "  Removing resnet       → mean QWK = 0.8076\n",
      "  Removing resnet-n     → mean QWK = 0.8059\n",
      "  Removing resnet-r     → mean QWK = 0.8085\n",
      "\n",
      "— No single-model removal improved QWK. Elimination complete.\n",
      "\n",
      "▶ Training final 5-fold models on features from: ['convnext', 'convnext-r', 'effnet', 'effnet-o', 'effnet-p', 'resnet', 'resnet-n', 'resnet-r']\n",
      "Final mean QWK: 0.8131\n",
      "\n"
     ]
    }
   ],
   "source": [
    "stacking_model = LGBMRegressor(verbose=0)\n",
    "train_stack_with_feature_selection(stacking_model, df_stack_unpaired)"
   ]
  },
  {
   "cell_type": "code",
   "execution_count": 6,
   "id": "adcfa2a6",
   "metadata": {},
   "outputs": [],
   "source": [
    "# Shutting up XGBoost\n",
    "\n",
    "import sys\n",
    "import re\n",
    "\n",
    "class FilteredStream:\n",
    "    def __init__(self, stream, pattern):\n",
    "        self.stream = stream\n",
    "        self.pattern = re.compile(pattern)\n",
    "        self.buffer = ''\n",
    "\n",
    "    def write(self, text):\n",
    "        self.buffer += text\n",
    "        lines = self.buffer.splitlines(True)\n",
    "        for line in lines:\n",
    "            if line.endswith('\\n'):\n",
    "                if not self.pattern.search(line):\n",
    "                    self.stream.write(line)\n",
    "            else:\n",
    "                self.buffer = line\n",
    "                break\n",
    "        else:\n",
    "            self.buffer = ''\n",
    "\n",
    "    def flush(self):\n",
    "        if self.buffer:\n",
    "            if not self.pattern.search(self.buffer):\n",
    "                self.stream.write(self.buffer)\n",
    "            self.buffer = ''\n",
    "        self.stream.flush()\n",
    "\n",
    "    def __getattr__(self, attr):\n",
    "        return getattr(self.stream, attr)\n",
    "\n",
    "# Define the fucking pattern to kill\n",
    "pattern = r'\\[\\d+\\]\\s+validation_0-rmse:\\d+\\.\\d+'\n",
    "\n",
    "# Save the original streams\n",
    "original_stdout = sys.stdout\n",
    "original_stderr = sys.stderr\n",
    "\n",
    "# Set the filtered streams\n",
    "sys.stdout = FilteredStream(original_stdout, pattern)\n",
    "sys.stderr = FilteredStream(original_stderr, pattern)"
   ]
  },
  {
   "cell_type": "code",
   "execution_count": 7,
   "id": "904e5a3f",
   "metadata": {},
   "outputs": [
    {
     "name": "stdout",
     "output_type": "stream",
     "text": [
      "▶ Running baseline 5-fold CV on all features …\n",
      "Baseline mean QWK: 0.8410\n",
      "\n",
      "▶ Testing removal of each model …\n"
     ]
    },
    {
     "data": {
      "application/vnd.jupyter.widget-view+json": {
       "model_id": "37ca465c3c814b75aabf338236b77eb7",
       "version_major": 2,
       "version_minor": 0
      },
      "text/plain": [
       "Models:   0%|          | 0/7 [00:00<?, ?it/s]"
      ]
     },
     "metadata": {},
     "output_type": "display_data"
    },
    {
     "name": "stdout",
     "output_type": "stream",
     "text": [
      "  Removing convnext     → mean QWK = 0.8426\n",
      "  Removing convnext-r   → mean QWK = 0.8392\n",
      "  Removing effnet       → mean QWK = 0.8398\n",
      "  Removing effnet-o     → mean QWK = 0.8423\n",
      "  Removing effnet-p     → mean QWK = 0.8432\n",
      "  Removing resnet       → mean QWK = 0.8460\n",
      "  Removing resnet-r     → mean QWK = 0.8407\n",
      "\n",
      "✔ Eliminating model 'resnet' improved QWK: 0.8410 → 0.8460\n",
      "\n",
      "▶ Testing removal of each model …\n"
     ]
    },
    {
     "data": {
      "application/vnd.jupyter.widget-view+json": {
       "model_id": "2a60755c04074fe39b3867b3ed6c94a9",
       "version_major": 2,
       "version_minor": 0
      },
      "text/plain": [
       "Models:   0%|          | 0/6 [00:00<?, ?it/s]"
      ]
     },
     "metadata": {},
     "output_type": "display_data"
    },
    {
     "name": "stdout",
     "output_type": "stream",
     "text": [
      "  Removing convnext     → mean QWK = 0.8314\n",
      "  Removing convnext-r   → mean QWK = 0.8421\n",
      "  Removing effnet       → mean QWK = 0.8349\n",
      "  Removing effnet-o     → mean QWK = 0.8366\n",
      "  Removing effnet-p     → mean QWK = 0.8377\n",
      "  Removing resnet-r     → mean QWK = 0.8391\n",
      "\n",
      "— No single-model removal improved QWK. Elimination complete.\n",
      "\n",
      "▶ Training final 5-fold models on features from: ['convnext', 'convnext-r', 'effnet', 'effnet-o', 'effnet-p', 'resnet-r']\n",
      "Final mean QWK: 0.8460\n",
      "\n"
     ]
    }
   ],
   "source": [
    "stacking_model = XGBRegressor(verbosity=0, device='gpu',\n",
    "                              n_estimators=1000, early_stopping_rounds=100)\n",
    "                            #   learning_rate=0.05)\n",
    "train_stack_with_feature_selection(stacking_model, df_stack_alt)"
   ]
  },
  {
   "cell_type": "code",
   "execution_count": 15,
   "id": "b988f097",
   "metadata": {},
   "outputs": [
    {
     "name": "stdout",
     "output_type": "stream",
     "text": [
      "▶ Running baseline 5-fold CV on all features …\n",
      "Baseline mean QWK: 0.8017\n",
      "\n",
      "▶ Testing removal of each model …\n"
     ]
    },
    {
     "data": {
      "application/vnd.jupyter.widget-view+json": {
       "model_id": "dc3a8a8db6ad45f99cb4bec3e6ef8b60",
       "version_major": 2,
       "version_minor": 0
      },
      "text/plain": [
       "Models:   0%|          | 0/8 [00:00<?, ?it/s]"
      ]
     },
     "metadata": {},
     "output_type": "display_data"
    },
    {
     "name": "stdout",
     "output_type": "stream",
     "text": [
      "  Removing convnext     → mean QWK = 0.8007\n",
      "  Removing convnext-r   → mean QWK = 0.8033\n",
      "  Removing effnet       → mean QWK = 0.7996\n",
      "  Removing effnet-o     → mean QWK = 0.8081\n",
      "  Removing effnet-p     → mean QWK = 0.7898\n",
      "  Removing resnet       → mean QWK = 0.8045\n",
      "  Removing resnet-n     → mean QWK = 0.8052\n",
      "  Removing resnet-r     → mean QWK = 0.8019\n",
      "\n",
      "✔ Eliminating model 'effnet-o' improved QWK: 0.8017 → 0.8081\n",
      "\n",
      "▶ Testing removal of each model …\n"
     ]
    },
    {
     "data": {
      "application/vnd.jupyter.widget-view+json": {
       "model_id": "e2dc5f1a653b4d3b948a0950f0ce5d18",
       "version_major": 2,
       "version_minor": 0
      },
      "text/plain": [
       "Models:   0%|          | 0/7 [00:00<?, ?it/s]"
      ]
     },
     "metadata": {},
     "output_type": "display_data"
    },
    {
     "name": "stdout",
     "output_type": "stream",
     "text": [
      "  Removing convnext     → mean QWK = 0.7971\n",
      "  Removing convnext-r   → mean QWK = 0.7991\n",
      "  Removing effnet       → mean QWK = 0.7987\n",
      "  Removing effnet-p     → mean QWK = 0.7973\n",
      "  Removing resnet       → mean QWK = 0.7989\n",
      "  Removing resnet-n     → mean QWK = 0.8030\n",
      "  Removing resnet-r     → mean QWK = 0.8041\n",
      "\n",
      "— No single-model removal improved QWK. Elimination complete.\n",
      "\n",
      "▶ Training final 5-fold models on features from: ['convnext', 'convnext-r', 'effnet', 'effnet-p', 'resnet', 'resnet-n', 'resnet-r']\n",
      "Final mean QWK: 0.8081\n",
      "\n"
     ]
    }
   ],
   "source": [
    "stacking_model = XGBRegressor(verbosity=0, device='gpu',\n",
    "                              n_estimators=1000, early_stopping_rounds=100)\n",
    "                            #   learning_rate=0.05)\n",
    "train_stack_with_feature_selection(stacking_model, df_stack_unpaired)"
   ]
  },
  {
   "cell_type": "code",
   "execution_count": 8,
   "id": "4d9940e7",
   "metadata": {},
   "outputs": [
    {
     "name": "stdout",
     "output_type": "stream",
     "text": [
      "▶ Running baseline 5-fold CV on all features …\n",
      "Baseline mean QWK: 0.8574\n",
      "\n",
      "▶ Testing removal of each model …\n"
     ]
    },
    {
     "data": {
      "application/vnd.jupyter.widget-view+json": {
       "model_id": "3657fd9f1c5e4588b1d90dc8f02b6638",
       "version_major": 2,
       "version_minor": 0
      },
      "text/plain": [
       "Models:   0%|          | 0/7 [00:00<?, ?it/s]"
      ]
     },
     "metadata": {},
     "output_type": "display_data"
    },
    {
     "name": "stdout",
     "output_type": "stream",
     "text": [
      "  Removing convnext     → mean QWK = 0.8525\n",
      "  Removing convnext-r   → mean QWK = 0.8542\n",
      "  Removing effnet       → mean QWK = 0.8543\n",
      "  Removing effnet-o     → mean QWK = 0.8582\n",
      "  Removing effnet-p     → mean QWK = 0.8566\n",
      "  Removing resnet       → mean QWK = 0.8523\n",
      "  Removing resnet-r     → mean QWK = 0.8568\n",
      "\n",
      "✔ Eliminating model 'effnet-o' improved QWK: 0.8574 → 0.8582\n",
      "\n",
      "▶ Testing removal of each model …\n"
     ]
    },
    {
     "data": {
      "application/vnd.jupyter.widget-view+json": {
       "model_id": "a83470c7bd6f4b83ab56804f4ec21bf4",
       "version_major": 2,
       "version_minor": 0
      },
      "text/plain": [
       "Models:   0%|          | 0/6 [00:00<?, ?it/s]"
      ]
     },
     "metadata": {},
     "output_type": "display_data"
    },
    {
     "name": "stdout",
     "output_type": "stream",
     "text": [
      "  Removing convnext     → mean QWK = 0.8540\n",
      "  Removing convnext-r   → mean QWK = 0.8534\n",
      "  Removing effnet       → mean QWK = 0.8549\n",
      "  Removing effnet-p     → mean QWK = 0.8573\n",
      "  Removing resnet       → mean QWK = 0.8531\n",
      "  Removing resnet-r     → mean QWK = 0.8578\n",
      "\n",
      "— No single-model removal improved QWK. Elimination complete.\n",
      "\n",
      "▶ Training final 5-fold models on features from: ['convnext', 'convnext-r', 'effnet', 'effnet-p', 'resnet', 'resnet-r']\n",
      "Final mean QWK: 0.8582\n",
      "\n",
      "✔ Saved fold 1 model to 'stacking_models/stack-cb_gpu-data2-fold1.pkl'\n",
      "✔ Saved fold 2 model to 'stacking_models/stack-cb_gpu-data2-fold2.pkl'\n",
      "✔ Saved fold 3 model to 'stacking_models/stack-cb_gpu-data2-fold3.pkl'\n",
      "✔ Saved fold 4 model to 'stacking_models/stack-cb_gpu-data2-fold4.pkl'\n",
      "✔ Saved fold 5 model to 'stacking_models/stack-cb_gpu-data2-fold5.pkl'\n"
     ]
    }
   ],
   "source": [
    "stacking_model = CatBoostRegressor(task_type='GPU',\n",
    "                                   iterations=5000, early_stopping_rounds=100,\n",
    "                                   use_best_model=True,\n",
    "                                   verbose=0)\n",
    "train_stack_with_feature_selection(stacking_model, df_stack_alt,\n",
    "                                   save_to='stacking_models/stack-cb_gpu-data2')"
   ]
  },
  {
   "cell_type": "code",
   "execution_count": 9,
   "id": "8e1a6120",
   "metadata": {},
   "outputs": [
    {
     "name": "stdout",
     "output_type": "stream",
     "text": [
      "▶ Running baseline 5-fold CV on all features …\n",
      "Baseline mean QWK: 0.8568\n",
      "\n",
      "▶ Testing removal of each model …\n"
     ]
    },
    {
     "data": {
      "application/vnd.jupyter.widget-view+json": {
       "model_id": "f7f0522233644772b56443e04467c4be",
       "version_major": 2,
       "version_minor": 0
      },
      "text/plain": [
       "Models:   0%|          | 0/7 [00:00<?, ?it/s]"
      ]
     },
     "metadata": {},
     "output_type": "display_data"
    },
    {
     "name": "stdout",
     "output_type": "stream",
     "text": [
      "  Removing convnext     → mean QWK = 0.8535\n",
      "  Removing convnext-r   → mean QWK = 0.8545\n",
      "  Removing effnet       → mean QWK = 0.8558\n",
      "  Removing effnet-o     → mean QWK = 0.8573\n",
      "  Removing effnet-p     → mean QWK = 0.8578\n",
      "  Removing resnet       → mean QWK = 0.8541\n",
      "  Removing resnet-r     → mean QWK = 0.8576\n",
      "\n",
      "✔ Eliminating model 'effnet-p' improved QWK: 0.8568 → 0.8578\n",
      "\n",
      "▶ Testing removal of each model …\n"
     ]
    },
    {
     "data": {
      "application/vnd.jupyter.widget-view+json": {
       "model_id": "e6c09f696a484c0da442a72207ce9479",
       "version_major": 2,
       "version_minor": 0
      },
      "text/plain": [
       "Models:   0%|          | 0/6 [00:00<?, ?it/s]"
      ]
     },
     "metadata": {},
     "output_type": "display_data"
    },
    {
     "name": "stdout",
     "output_type": "stream",
     "text": [
      "  Removing convnext     → mean QWK = 0.8542\n",
      "  Removing convnext-r   → mean QWK = 0.8558\n",
      "  Removing effnet       → mean QWK = 0.8561\n",
      "  Removing effnet-o     → mean QWK = 0.8564\n",
      "  Removing resnet       → mean QWK = 0.8543\n",
      "  Removing resnet-r     → mean QWK = 0.8567\n",
      "\n",
      "— No single-model removal improved QWK. Elimination complete.\n",
      "\n",
      "▶ Training final 5-fold models on features from: ['convnext', 'convnext-r', 'effnet', 'effnet-o', 'resnet', 'resnet-r']\n",
      "Final mean QWK: 0.8578\n",
      "\n",
      "✔ Saved fold 1 model to 'stacking_models/stack-tabpfn-data2-fold1.pkl'\n",
      "✔ Saved fold 2 model to 'stacking_models/stack-tabpfn-data2-fold2.pkl'\n",
      "✔ Saved fold 3 model to 'stacking_models/stack-tabpfn-data2-fold3.pkl'\n",
      "✔ Saved fold 4 model to 'stacking_models/stack-tabpfn-data2-fold4.pkl'\n",
      "✔ Saved fold 5 model to 'stacking_models/stack-tabpfn-data2-fold5.pkl'\n"
     ]
    }
   ],
   "source": [
    "stacking_model = TabPFNRegressor()\n",
    "train_stack_with_feature_selection(stacking_model, df_stack_alt, no_eval=True,\n",
    "                                   save_to='stacking_models/stack-tabpfn-data2')"
   ]
  },
  {
   "cell_type": "code",
   "execution_count": null,
   "id": "d6542883",
   "metadata": {},
   "outputs": [
    {
     "name": "stdout",
     "output_type": "stream",
     "text": [
      "▶ Running baseline 5-fold CV on all features …\n"
     ]
    },
    {
     "ename": "TypeError",
     "evalue": "TabPFNRegressor.fit() got an unexpected keyword argument 'eval_set'",
     "output_type": "error",
     "traceback": [
      "\u001b[0;31m---------------------------------------------------------------------------\u001b[0m",
      "\u001b[0;31mTypeError\u001b[0m                                 Traceback (most recent call last)",
      "Cell \u001b[0;32mIn[17], line 2\u001b[0m\n\u001b[1;32m      1\u001b[0m stacking_model \u001b[38;5;241m=\u001b[39m TabPFNRegressor()\n\u001b[0;32m----> 2\u001b[0m \u001b[43mtrain_stack_with_feature_selection\u001b[49m\u001b[43m(\u001b[49m\u001b[43mstacking_model\u001b[49m\u001b[43m,\u001b[49m\u001b[43m \u001b[49m\u001b[43mdf_stack_unpaired\u001b[49m\u001b[43m,\u001b[49m\n\u001b[1;32m      3\u001b[0m \u001b[43m                                   \u001b[49m\u001b[43msave_to\u001b[49m\u001b[38;5;241;43m=\u001b[39;49m\u001b[38;5;124;43m'\u001b[39;49m\u001b[38;5;124;43mstacking_models/stack-tabpfn-no_pairs\u001b[39;49m\u001b[38;5;124;43m'\u001b[39;49m\u001b[43m)\u001b[49m\n",
      "Cell \u001b[0;32mIn[10], line 19\u001b[0m, in \u001b[0;36mtrain_stack_with_feature_selection\u001b[0;34m(stacking_model, df_stack, save_to, fit_kwargs)\u001b[0m\n\u001b[1;32m     17\u001b[0m \u001b[38;5;28mprint\u001b[39m(\u001b[38;5;124m\"\u001b[39m\u001b[38;5;124m▶ Running baseline 5-fold CV on all features …\u001b[39m\u001b[38;5;124m\"\u001b[39m)\n\u001b[1;32m     18\u001b[0m \u001b[38;5;66;03m# base_mean, base_models = cv_score(feature_cols, stacking_model, kf, num_classes)\u001b[39;00m\n\u001b[0;32m---> 19\u001b[0m base_mean, base_models \u001b[38;5;241m=\u001b[39m \u001b[43mcv_score\u001b[49m\u001b[43m(\u001b[49m\u001b[43mfeature_cols\u001b[49m\u001b[43m,\u001b[49m\u001b[43m \u001b[49m\u001b[43mstacking_model\u001b[49m\u001b[43m,\u001b[49m\u001b[43m \u001b[49m\u001b[43mdf_stack\u001b[49m\u001b[43m,\u001b[49m\u001b[43m \u001b[49m\u001b[43mnum_classes\u001b[49m\u001b[43m,\u001b[49m\u001b[43m \u001b[49m\u001b[43mfit_kwargs\u001b[49m\u001b[43m)\u001b[49m\n\u001b[1;32m     20\u001b[0m \u001b[38;5;28mprint\u001b[39m(\u001b[38;5;124mf\u001b[39m\u001b[38;5;124m\"\u001b[39m\u001b[38;5;124mBaseline mean QWK: \u001b[39m\u001b[38;5;132;01m{\u001b[39;00mbase_mean\u001b[38;5;132;01m:\u001b[39;00m\u001b[38;5;124m.4f\u001b[39m\u001b[38;5;132;01m}\u001b[39;00m\u001b[38;5;130;01m\\n\u001b[39;00m\u001b[38;5;124m\"\u001b[39m)\n\u001b[1;32m     22\u001b[0m current_models \u001b[38;5;241m=\u001b[39m models\u001b[38;5;241m.\u001b[39mcopy()\n",
      "Cell \u001b[0;32mIn[3], line 20\u001b[0m, in \u001b[0;36mcv_score\u001b[0;34m(feature_columns, model_, df, num_classes, fit_kwargs)\u001b[0m\n\u001b[1;32m     17\u001b[0m y_te \u001b[38;5;241m=\u001b[39m df\u001b[38;5;241m.\u001b[39miloc[te_idx][\u001b[38;5;124m'\u001b[39m\u001b[38;5;124mlabel\u001b[39m\u001b[38;5;124m'\u001b[39m]\n\u001b[1;32m     19\u001b[0m model \u001b[38;5;241m=\u001b[39m copy\u001b[38;5;241m.\u001b[39mdeepcopy(model_)\n\u001b[0;32m---> 20\u001b[0m \u001b[43mmodel\u001b[49m\u001b[38;5;241;43m.\u001b[39;49m\u001b[43mfit\u001b[49m\u001b[43m(\u001b[49m\u001b[43mX_tr\u001b[49m\u001b[43m,\u001b[49m\u001b[43m \u001b[49m\u001b[43my_tr\u001b[49m\u001b[43m,\u001b[49m\u001b[43m \u001b[49m\u001b[43meval_set\u001b[49m\u001b[38;5;241;43m=\u001b[39;49m\u001b[43m[\u001b[49m\u001b[43m(\u001b[49m\u001b[43mX_te\u001b[49m\u001b[43m,\u001b[49m\u001b[43m \u001b[49m\u001b[43my_te\u001b[49m\u001b[43m)\u001b[49m\u001b[43m]\u001b[49m\u001b[43m,\u001b[49m\u001b[43m \u001b[49m\u001b[38;5;241;43m*\u001b[39;49m\u001b[38;5;241;43m*\u001b[39;49m\u001b[43mfit_kwargs\u001b[49m\u001b[43m)\u001b[49m\n\u001b[1;32m     22\u001b[0m preds \u001b[38;5;241m=\u001b[39m model\u001b[38;5;241m.\u001b[39mpredict(X_te)\n\u001b[1;32m     23\u001b[0m preds_int \u001b[38;5;241m=\u001b[39m np\u001b[38;5;241m.\u001b[39mclip(np\u001b[38;5;241m.\u001b[39mrint(preds), \u001b[38;5;241m0\u001b[39m, num_classes\u001b[38;5;241m-\u001b[39m\u001b[38;5;241m1\u001b[39m)\u001b[38;5;241m.\u001b[39mastype(\u001b[38;5;28mint\u001b[39m)\n",
      "\u001b[0;31mTypeError\u001b[0m: TabPFNRegressor.fit() got an unexpected keyword argument 'eval_set'"
     ]
    }
   ],
   "source": [
    "stacking_model = TabPFNRegressor()\n",
    "train_stack_with_feature_selection(stacking_model, df_stack_unpaired, no_eval=True,\n",
    "                                   save_to='stacking_models/stack-tabpfn-no_pairs')"
   ]
  },
  {
   "cell_type": "markdown",
   "id": "e0f51fae",
   "metadata": {},
   "source": [
    "## 2019"
   ]
  },
  {
   "cell_type": "code",
   "execution_count": 8,
   "id": "0d26e86b",
   "metadata": {},
   "outputs": [
    {
     "name": "stdout",
     "output_type": "stream",
     "text": [
      "▶ Running baseline 5-fold CV on all features …\n",
      "Baseline mean QWK: 0.9306\n",
      "\n",
      "▶ Testing removal of each model …\n"
     ]
    },
    {
     "data": {
      "application/vnd.jupyter.widget-view+json": {
       "model_id": "1e5f6be50dd14c03aba08a738fc20309",
       "version_major": 2,
       "version_minor": 0
      },
      "text/plain": [
       "Models:   0%|          | 0/6 [00:00<?, ?it/s]"
      ]
     },
     "metadata": {},
     "output_type": "display_data"
    },
    {
     "name": "stdout",
     "output_type": "stream",
     "text": [
      "  Removing convnext     → mean QWK = 0.9331\n",
      "  Removing convnext-r   → mean QWK = 0.9323\n",
      "  Removing effnet       → mean QWK = 0.9334\n",
      "  Removing effnet-o     → mean QWK = 0.9287\n",
      "  Removing resnet       → mean QWK = 0.9304\n",
      "  Removing resnet-n     → mean QWK = 0.9208\n",
      "\n",
      "✔ Eliminating model 'effnet' improved QWK: 0.9306 → 0.9334\n",
      "\n",
      "▶ Testing removal of each model …\n"
     ]
    },
    {
     "data": {
      "application/vnd.jupyter.widget-view+json": {
       "model_id": "a7e15718e680451a8d3fa6b7d269bb3b",
       "version_major": 2,
       "version_minor": 0
      },
      "text/plain": [
       "Models:   0%|          | 0/5 [00:00<?, ?it/s]"
      ]
     },
     "metadata": {},
     "output_type": "display_data"
    },
    {
     "name": "stdout",
     "output_type": "stream",
     "text": [
      "  Removing convnext     → mean QWK = 0.9314\n",
      "  Removing convnext-r   → mean QWK = 0.9332\n",
      "  Removing effnet-o     → mean QWK = 0.9265\n",
      "  Removing resnet       → mean QWK = 0.9264\n",
      "  Removing resnet-n     → mean QWK = 0.9321\n",
      "\n",
      "— No single-model removal improved QWK. Elimination complete.\n",
      "\n",
      "▶ Training final 5-fold models on features from: ['convnext', 'convnext-r', 'effnet-o', 'resnet', 'resnet-n']\n",
      "Final mean QWK: 0.9334\n",
      "\n",
      "✔ Saved fold 1 model to 'stacking_models/stack-lgb-data1-fold1.pkl'\n",
      "✔ Saved fold 2 model to 'stacking_models/stack-lgb-data1-fold2.pkl'\n",
      "✔ Saved fold 3 model to 'stacking_models/stack-lgb-data1-fold3.pkl'\n",
      "✔ Saved fold 4 model to 'stacking_models/stack-lgb-data1-fold4.pkl'\n",
      "✔ Saved fold 5 model to 'stacking_models/stack-lgb-data1-fold5.pkl'\n"
     ]
    }
   ],
   "source": [
    "stacking_model = LGBMRegressor(verbose=-1)\n",
    "train_stack_with_feature_selection(stacking_model, df_stack,\n",
    "                                   save_to='stacking_models/stack-lgb-data1')"
   ]
  },
  {
   "cell_type": "code",
   "execution_count": null,
   "id": "e331fd11",
   "metadata": {},
   "outputs": [],
   "source": [
    "# Shutting up XGBoost\n",
    "\n",
    "import sys\n",
    "import re\n",
    "\n",
    "class FilteredStream:\n",
    "    def __init__(self, stream, pattern):\n",
    "        self.stream = stream\n",
    "        self.pattern = re.compile(pattern)\n",
    "        self.buffer = ''\n",
    "\n",
    "    def write(self, text):\n",
    "        self.buffer += text\n",
    "        lines = self.buffer.splitlines(True)\n",
    "        for line in lines:\n",
    "            if line.endswith('\\n'):\n",
    "                if not self.pattern.search(line):\n",
    "                    self.stream.write(line)\n",
    "            else:\n",
    "                self.buffer = line\n",
    "                break\n",
    "        else:\n",
    "            self.buffer = ''\n",
    "\n",
    "    def flush(self):\n",
    "        if self.buffer:\n",
    "            if not self.pattern.search(self.buffer):\n",
    "                self.stream.write(self.buffer)\n",
    "            self.buffer = ''\n",
    "        self.stream.flush()\n",
    "\n",
    "    def __getattr__(self, attr):\n",
    "        return getattr(self.stream, attr)\n",
    "\n",
    "# Define the fucking pattern to kill\n",
    "pattern = r'\\[\\d+\\]\\s+validation_0-rmse:\\d+\\.\\d+'\n",
    "\n",
    "# Save the original streams\n",
    "original_stdout = sys.stdout\n",
    "original_stderr = sys.stderr\n",
    "\n",
    "# Set the filtered streams\n",
    "sys.stdout = FilteredStream(original_stdout, pattern)\n",
    "sys.stderr = FilteredStream(original_stderr, pattern)"
   ]
  },
  {
   "cell_type": "code",
   "execution_count": 10,
   "id": "858d240b",
   "metadata": {},
   "outputs": [
    {
     "name": "stdout",
     "output_type": "stream",
     "text": [
      "▶ Running baseline 5-fold CV on all features …\n",
      "Baseline mean QWK: 0.9181\n",
      "\n",
      "▶ Testing removal of each model …\n"
     ]
    },
    {
     "data": {
      "application/vnd.jupyter.widget-view+json": {
       "model_id": "21d377902f0d4420b59e00b1096763cc",
       "version_major": 2,
       "version_minor": 0
      },
      "text/plain": [
       "Models:   0%|          | 0/6 [00:00<?, ?it/s]"
      ]
     },
     "metadata": {},
     "output_type": "display_data"
    },
    {
     "name": "stdout",
     "output_type": "stream",
     "text": [
      "  Removing convnext     → mean QWK = 0.9346\n",
      "  Removing convnext-r   → mean QWK = 0.9214\n",
      "  Removing effnet       → mean QWK = 0.9183\n",
      "  Removing effnet-o     → mean QWK = 0.9248\n",
      "  Removing resnet       → mean QWK = 0.9195\n",
      "  Removing resnet-n     → mean QWK = 0.9239\n",
      "\n",
      "✔ Eliminating model 'convnext' improved QWK: 0.9181 → 0.9346\n",
      "\n",
      "▶ Testing removal of each model …\n"
     ]
    },
    {
     "data": {
      "application/vnd.jupyter.widget-view+json": {
       "model_id": "95cf0f1ab8234bfa8843f36eb77feda5",
       "version_major": 2,
       "version_minor": 0
      },
      "text/plain": [
       "Models:   0%|          | 0/5 [00:00<?, ?it/s]"
      ]
     },
     "metadata": {},
     "output_type": "display_data"
    },
    {
     "name": "stdout",
     "output_type": "stream",
     "text": [
      "  Removing convnext-r   → mean QWK = 0.9349\n",
      "  Removing effnet       → mean QWK = 0.9307\n",
      "  Removing effnet-o     → mean QWK = 0.9339\n",
      "  Removing resnet       → mean QWK = 0.9350\n",
      "  Removing resnet-n     → mean QWK = 0.9226\n",
      "\n",
      "✔ Eliminating model 'resnet' improved QWK: 0.9346 → 0.9350\n",
      "\n",
      "▶ Testing removal of each model …\n"
     ]
    },
    {
     "data": {
      "application/vnd.jupyter.widget-view+json": {
       "model_id": "8620de6f33b744d2bc359ea6bafaa043",
       "version_major": 2,
       "version_minor": 0
      },
      "text/plain": [
       "Models:   0%|          | 0/4 [00:00<?, ?it/s]"
      ]
     },
     "metadata": {},
     "output_type": "display_data"
    },
    {
     "name": "stdout",
     "output_type": "stream",
     "text": [
      "  Removing convnext-r   → mean QWK = 0.9256\n",
      "  Removing effnet       → mean QWK = 0.9347\n",
      "  Removing effnet-o     → mean QWK = 0.9302\n",
      "  Removing resnet-n     → mean QWK = 0.9246\n",
      "\n",
      "— No single-model removal improved QWK. Elimination complete.\n",
      "\n",
      "▶ Training final 5-fold models on features from: ['convnext-r', 'effnet', 'effnet-o', 'resnet-n']\n",
      "Final mean QWK: 0.9350\n",
      "\n",
      "✔ Saved fold 1 model to 'stacking_models/stack-xgb-data1-fold1.pkl'\n",
      "✔ Saved fold 2 model to 'stacking_models/stack-xgb-data1-fold2.pkl'\n",
      "✔ Saved fold 3 model to 'stacking_models/stack-xgb-data1-fold3.pkl'\n",
      "✔ Saved fold 4 model to 'stacking_models/stack-xgb-data1-fold4.pkl'\n",
      "✔ Saved fold 5 model to 'stacking_models/stack-xgb-data1-fold5.pkl'\n"
     ]
    }
   ],
   "source": [
    "stacking_model = XGBRegressor(verbosity=0, device='gpu',\n",
    "                              n_estimators=1000, early_stopping_rounds=100)\n",
    "                            #   learning_rate=0.05)\n",
    "train_stack_with_feature_selection(stacking_model, df_stack,\n",
    "                                   save_to='stacking_models/stack-xgb-data1')"
   ]
  },
  {
   "cell_type": "code",
   "execution_count": 11,
   "id": "684c48ff",
   "metadata": {},
   "outputs": [
    {
     "name": "stdout",
     "output_type": "stream",
     "text": [
      "▶ Running baseline 5-fold CV on all features …\n",
      "Baseline mean QWK: 0.9357\n",
      "\n",
      "▶ Testing removal of each model …\n"
     ]
    },
    {
     "data": {
      "application/vnd.jupyter.widget-view+json": {
       "model_id": "64d31c197d8f42a68db8c19dcae17d05",
       "version_major": 2,
       "version_minor": 0
      },
      "text/plain": [
       "Models:   0%|          | 0/6 [00:00<?, ?it/s]"
      ]
     },
     "metadata": {},
     "output_type": "display_data"
    },
    {
     "name": "stdout",
     "output_type": "stream",
     "text": [
      "  Removing convnext     → mean QWK = 0.9393\n",
      "  Removing convnext-r   → mean QWK = 0.9395\n",
      "  Removing effnet       → mean QWK = 0.9400\n",
      "  Removing effnet-o     → mean QWK = 0.9386\n",
      "  Removing resnet       → mean QWK = 0.9366\n",
      "  Removing resnet-n     → mean QWK = 0.9348\n",
      "\n",
      "✔ Eliminating model 'effnet' improved QWK: 0.9357 → 0.9400\n",
      "\n",
      "▶ Testing removal of each model …\n"
     ]
    },
    {
     "data": {
      "application/vnd.jupyter.widget-view+json": {
       "model_id": "3dd88a605bbb4196b7a6722171b0d10f",
       "version_major": 2,
       "version_minor": 0
      },
      "text/plain": [
       "Models:   0%|          | 0/5 [00:00<?, ?it/s]"
      ]
     },
     "metadata": {},
     "output_type": "display_data"
    },
    {
     "name": "stdout",
     "output_type": "stream",
     "text": [
      "  Removing convnext     → mean QWK = 0.9378\n",
      "  Removing convnext-r   → mean QWK = 0.9385\n",
      "  Removing effnet-o     → mean QWK = 0.9366\n",
      "  Removing resnet       → mean QWK = 0.9387\n",
      "  Removing resnet-n     → mean QWK = 0.9348\n",
      "\n",
      "— No single-model removal improved QWK. Elimination complete.\n",
      "\n",
      "▶ Training final 5-fold models on features from: ['convnext', 'convnext-r', 'effnet-o', 'resnet', 'resnet-n']\n",
      "Final mean QWK: 0.9400\n",
      "\n",
      "✔ Saved fold 1 model to 'stacking_models/stack-cb_gpu-data1-fold1.pkl'\n",
      "✔ Saved fold 2 model to 'stacking_models/stack-cb_gpu-data1-fold2.pkl'\n",
      "✔ Saved fold 3 model to 'stacking_models/stack-cb_gpu-data1-fold3.pkl'\n",
      "✔ Saved fold 4 model to 'stacking_models/stack-cb_gpu-data1-fold4.pkl'\n",
      "✔ Saved fold 5 model to 'stacking_models/stack-cb_gpu-data1-fold5.pkl'\n"
     ]
    }
   ],
   "source": [
    "stacking_model = CatBoostRegressor(task_type='GPU',\n",
    "                                   iterations=5000, early_stopping_rounds=100,\n",
    "                                   use_best_model=True,\n",
    "                                   verbose=0)\n",
    "train_stack_with_feature_selection(stacking_model, df_stack,\n",
    "                                   save_to='stacking_models/stack-cb_gpu-data1')"
   ]
  },
  {
   "cell_type": "code",
   "execution_count": 15,
   "id": "df2bf5d8",
   "metadata": {},
   "outputs": [
    {
     "name": "stdout",
     "output_type": "stream",
     "text": [
      "▶ Running baseline 5-fold CV on all features …\n",
      "Baseline mean QWK: 0.9255\n",
      "\n",
      "▶ Testing removal of each model …\n"
     ]
    },
    {
     "data": {
      "application/vnd.jupyter.widget-view+json": {
       "model_id": "572ffbc97e1f4875b7a8c80b7cc63649",
       "version_major": 2,
       "version_minor": 0
      },
      "text/plain": [
       "Models:   0%|          | 0/6 [00:00<?, ?it/s]"
      ]
     },
     "metadata": {},
     "output_type": "display_data"
    },
    {
     "name": "stdout",
     "output_type": "stream",
     "text": [
      "  Removing convnext     → mean QWK = 0.9251\n",
      "  Removing convnext-r   → mean QWK = 0.9217\n",
      "  Removing effnet       → mean QWK = 0.9264\n",
      "  Removing effnet-o     → mean QWK = 0.9259\n",
      "  Removing resnet       → mean QWK = 0.9256\n",
      "  Removing resnet-n     → mean QWK = 0.9218\n",
      "\n",
      "✔ Eliminating model 'effnet' improved QWK: 0.9255 → 0.9264\n",
      "\n",
      "▶ Testing removal of each model …\n"
     ]
    },
    {
     "data": {
      "application/vnd.jupyter.widget-view+json": {
       "model_id": "31419163c8b44fcc83a07aec7f2aa70f",
       "version_major": 2,
       "version_minor": 0
      },
      "text/plain": [
       "Models:   0%|          | 0/5 [00:00<?, ?it/s]"
      ]
     },
     "metadata": {},
     "output_type": "display_data"
    },
    {
     "name": "stdout",
     "output_type": "stream",
     "text": [
      "  Removing convnext     → mean QWK = 0.9253\n",
      "  Removing convnext-r   → mean QWK = 0.9241\n",
      "  Removing effnet-o     → mean QWK = 0.9245\n",
      "  Removing resnet       → mean QWK = 0.9231\n",
      "  Removing resnet-n     → mean QWK = 0.9198\n",
      "\n",
      "— No single-model removal improved QWK. Elimination complete.\n",
      "\n",
      "▶ Training final 5-fold models on features from: ['convnext', 'convnext-r', 'effnet-o', 'resnet', 'resnet-n']\n",
      "Final mean QWK: 0.9264\n",
      "\n",
      "✔ Saved fold 1 model to 'stacking_models/stack-tabpfn-data1-fold1.pkl'\n",
      "✔ Saved fold 2 model to 'stacking_models/stack-tabpfn-data1-fold2.pkl'\n",
      "✔ Saved fold 3 model to 'stacking_models/stack-tabpfn-data1-fold3.pkl'\n",
      "✔ Saved fold 4 model to 'stacking_models/stack-tabpfn-data1-fold4.pkl'\n",
      "✔ Saved fold 5 model to 'stacking_models/stack-tabpfn-data1-fold5.pkl'\n"
     ]
    }
   ],
   "source": [
    "stacking_model = TabPFNRegressor()\n",
    "train_stack_with_feature_selection(stacking_model, df_stack, no_eval=True,\n",
    "                                   save_to='stacking_models/stack-tabpfn-data1')"
   ]
  },
  {
   "cell_type": "markdown",
   "id": "c4078f8f",
   "metadata": {},
   "source": [
    "## 2015 inferring 2019"
   ]
  },
  {
   "cell_type": "code",
   "execution_count": null,
   "id": "c9ee4fa0",
   "metadata": {},
   "outputs": [
    {
     "name": "stdout",
     "output_type": "stream",
     "text": [
      "▶ Running baseline 5-fold CV on all features …\n"
     ]
    },
    {
     "ename": "KeyError",
     "evalue": "'fold'",
     "output_type": "error",
     "traceback": [
      "\u001b[0;31m---------------------------------------------------------------------------\u001b[0m",
      "\u001b[0;31mKeyError\u001b[0m                                  Traceback (most recent call last)",
      "File \u001b[0;32m~/miniconda3/envs/causal-dl-torch/lib/python3.12/site-packages/pandas/core/indexes/base.py:3791\u001b[0m, in \u001b[0;36mIndex.get_loc\u001b[0;34m(self, key)\u001b[0m\n\u001b[1;32m   3790\u001b[0m \u001b[38;5;28;01mtry\u001b[39;00m:\n\u001b[0;32m-> 3791\u001b[0m     \u001b[38;5;28;01mreturn\u001b[39;00m \u001b[38;5;28;43mself\u001b[39;49m\u001b[38;5;241;43m.\u001b[39;49m\u001b[43m_engine\u001b[49m\u001b[38;5;241;43m.\u001b[39;49m\u001b[43mget_loc\u001b[49m\u001b[43m(\u001b[49m\u001b[43mcasted_key\u001b[49m\u001b[43m)\u001b[49m\n\u001b[1;32m   3792\u001b[0m \u001b[38;5;28;01mexcept\u001b[39;00m \u001b[38;5;167;01mKeyError\u001b[39;00m \u001b[38;5;28;01mas\u001b[39;00m err:\n",
      "File \u001b[0;32mindex.pyx:152\u001b[0m, in \u001b[0;36mpandas._libs.index.IndexEngine.get_loc\u001b[0;34m()\u001b[0m\n",
      "File \u001b[0;32mindex.pyx:181\u001b[0m, in \u001b[0;36mpandas._libs.index.IndexEngine.get_loc\u001b[0;34m()\u001b[0m\n",
      "File \u001b[0;32mpandas/_libs/hashtable_class_helper.pxi:7080\u001b[0m, in \u001b[0;36mpandas._libs.hashtable.PyObjectHashTable.get_item\u001b[0;34m()\u001b[0m\n",
      "File \u001b[0;32mpandas/_libs/hashtable_class_helper.pxi:7088\u001b[0m, in \u001b[0;36mpandas._libs.hashtable.PyObjectHashTable.get_item\u001b[0;34m()\u001b[0m\n",
      "\u001b[0;31mKeyError\u001b[0m: 'fold'",
      "\nThe above exception was the direct cause of the following exception:\n",
      "\u001b[0;31mKeyError\u001b[0m                                  Traceback (most recent call last)",
      "Cell \u001b[0;32mIn[5], line 2\u001b[0m\n\u001b[1;32m      1\u001b[0m stacking_model \u001b[38;5;241m=\u001b[39m LGBMRegressor(verbose\u001b[38;5;241m=\u001b[39m\u001b[38;5;241m-\u001b[39m\u001b[38;5;241m1\u001b[39m)\n\u001b[0;32m----> 2\u001b[0m \u001b[43mtrain_stack_with_feature_selection\u001b[49m\u001b[43m(\u001b[49m\u001b[43mstacking_model\u001b[49m\u001b[43m,\u001b[49m\u001b[43m \u001b[49m\u001b[43mdf_stack21\u001b[49m\u001b[43m,\u001b[49m\n\u001b[1;32m      3\u001b[0m \u001b[43m                                   \u001b[49m\u001b[43msave_to\u001b[49m\u001b[38;5;241;43m=\u001b[39;49m\u001b[38;5;124;43m'\u001b[39;49m\u001b[38;5;124;43mstacking_models/stack-lgb-train2-data1-dyn\u001b[39;49m\u001b[38;5;124;43m'\u001b[39;49m\u001b[43m)\u001b[49m\n",
      "Cell \u001b[0;32mIn[4], line 20\u001b[0m, in \u001b[0;36mtrain_stack_with_feature_selection\u001b[0;34m(stacking_model, df_stack, save_to, fit_kwargs, no_eval)\u001b[0m\n\u001b[1;32m     18\u001b[0m \u001b[38;5;28mprint\u001b[39m(\u001b[38;5;124m\"\u001b[39m\u001b[38;5;124m▶ Running baseline 5-fold CV on all features …\u001b[39m\u001b[38;5;124m\"\u001b[39m)\n\u001b[1;32m     19\u001b[0m \u001b[38;5;66;03m# base_mean, base_models = cv_score(feature_cols, stacking_model, kf, num_classes)\u001b[39;00m\n\u001b[0;32m---> 20\u001b[0m base_mean, base_models \u001b[38;5;241m=\u001b[39m \u001b[43mcv_score\u001b[49m\u001b[43m(\u001b[49m\u001b[43mfeature_cols\u001b[49m\u001b[43m,\u001b[49m\u001b[43m \u001b[49m\u001b[43mstacking_model\u001b[49m\u001b[43m,\u001b[49m\u001b[43m \u001b[49m\u001b[43mdf_stack\u001b[49m\u001b[43m,\u001b[49m\u001b[43m \u001b[49m\u001b[43mnum_classes\u001b[49m\u001b[43m,\u001b[49m\n\u001b[1;32m     21\u001b[0m \u001b[43m                                  \u001b[49m\u001b[43mfit_kwargs\u001b[49m\u001b[43m,\u001b[49m\u001b[43m \u001b[49m\u001b[43mno_eval\u001b[49m\u001b[43m)\u001b[49m\n\u001b[1;32m     22\u001b[0m \u001b[38;5;28mprint\u001b[39m(\u001b[38;5;124mf\u001b[39m\u001b[38;5;124m\"\u001b[39m\u001b[38;5;124mBaseline mean QWK: \u001b[39m\u001b[38;5;132;01m{\u001b[39;00mbase_mean\u001b[38;5;132;01m:\u001b[39;00m\u001b[38;5;124m.4f\u001b[39m\u001b[38;5;132;01m}\u001b[39;00m\u001b[38;5;130;01m\\n\u001b[39;00m\u001b[38;5;124m\"\u001b[39m)\n\u001b[1;32m     24\u001b[0m current_models \u001b[38;5;241m=\u001b[39m models\u001b[38;5;241m.\u001b[39mcopy()\n",
      "Cell \u001b[0;32mIn[3], line 13\u001b[0m, in \u001b[0;36mcv_score\u001b[0;34m(feature_columns, model_, df, num_classes, fit_kwargs, no_eval)\u001b[0m\n\u001b[1;32m     10\u001b[0m models_trained \u001b[38;5;241m=\u001b[39m []\n\u001b[1;32m     12\u001b[0m \u001b[38;5;66;03m# for fold, (tr_idx, te_idx) in enumerate(kf.split(df), 1):\u001b[39;00m\n\u001b[0;32m---> 13\u001b[0m \u001b[38;5;28;01mfor\u001b[39;00m fold \u001b[38;5;129;01min\u001b[39;00m \u001b[38;5;28msorted\u001b[39m(\u001b[43mdf\u001b[49m\u001b[43m[\u001b[49m\u001b[38;5;124;43m'\u001b[39;49m\u001b[38;5;124;43mfold\u001b[39;49m\u001b[38;5;124;43m'\u001b[39;49m\u001b[43m]\u001b[49m\u001b[38;5;241m.\u001b[39munique()):\n\u001b[1;32m     14\u001b[0m     tr_idx \u001b[38;5;241m=\u001b[39m df[df[\u001b[38;5;124m'\u001b[39m\u001b[38;5;124mfold\u001b[39m\u001b[38;5;124m'\u001b[39m] \u001b[38;5;241m!=\u001b[39m fold]\u001b[38;5;241m.\u001b[39mindex\n\u001b[1;32m     15\u001b[0m     te_idx \u001b[38;5;241m=\u001b[39m df[df[\u001b[38;5;124m'\u001b[39m\u001b[38;5;124mfold\u001b[39m\u001b[38;5;124m'\u001b[39m] \u001b[38;5;241m==\u001b[39m fold]\u001b[38;5;241m.\u001b[39mindex\n",
      "File \u001b[0;32m~/miniconda3/envs/causal-dl-torch/lib/python3.12/site-packages/pandas/core/frame.py:3893\u001b[0m, in \u001b[0;36mDataFrame.__getitem__\u001b[0;34m(self, key)\u001b[0m\n\u001b[1;32m   3891\u001b[0m \u001b[38;5;28;01mif\u001b[39;00m \u001b[38;5;28mself\u001b[39m\u001b[38;5;241m.\u001b[39mcolumns\u001b[38;5;241m.\u001b[39mnlevels \u001b[38;5;241m>\u001b[39m \u001b[38;5;241m1\u001b[39m:\n\u001b[1;32m   3892\u001b[0m     \u001b[38;5;28;01mreturn\u001b[39;00m \u001b[38;5;28mself\u001b[39m\u001b[38;5;241m.\u001b[39m_getitem_multilevel(key)\n\u001b[0;32m-> 3893\u001b[0m indexer \u001b[38;5;241m=\u001b[39m \u001b[38;5;28;43mself\u001b[39;49m\u001b[38;5;241;43m.\u001b[39;49m\u001b[43mcolumns\u001b[49m\u001b[38;5;241;43m.\u001b[39;49m\u001b[43mget_loc\u001b[49m\u001b[43m(\u001b[49m\u001b[43mkey\u001b[49m\u001b[43m)\u001b[49m\n\u001b[1;32m   3894\u001b[0m \u001b[38;5;28;01mif\u001b[39;00m is_integer(indexer):\n\u001b[1;32m   3895\u001b[0m     indexer \u001b[38;5;241m=\u001b[39m [indexer]\n",
      "File \u001b[0;32m~/miniconda3/envs/causal-dl-torch/lib/python3.12/site-packages/pandas/core/indexes/base.py:3798\u001b[0m, in \u001b[0;36mIndex.get_loc\u001b[0;34m(self, key)\u001b[0m\n\u001b[1;32m   3793\u001b[0m     \u001b[38;5;28;01mif\u001b[39;00m \u001b[38;5;28misinstance\u001b[39m(casted_key, \u001b[38;5;28mslice\u001b[39m) \u001b[38;5;129;01mor\u001b[39;00m (\n\u001b[1;32m   3794\u001b[0m         \u001b[38;5;28misinstance\u001b[39m(casted_key, abc\u001b[38;5;241m.\u001b[39mIterable)\n\u001b[1;32m   3795\u001b[0m         \u001b[38;5;129;01mand\u001b[39;00m \u001b[38;5;28many\u001b[39m(\u001b[38;5;28misinstance\u001b[39m(x, \u001b[38;5;28mslice\u001b[39m) \u001b[38;5;28;01mfor\u001b[39;00m x \u001b[38;5;129;01min\u001b[39;00m casted_key)\n\u001b[1;32m   3796\u001b[0m     ):\n\u001b[1;32m   3797\u001b[0m         \u001b[38;5;28;01mraise\u001b[39;00m InvalidIndexError(key)\n\u001b[0;32m-> 3798\u001b[0m     \u001b[38;5;28;01mraise\u001b[39;00m \u001b[38;5;167;01mKeyError\u001b[39;00m(key) \u001b[38;5;28;01mfrom\u001b[39;00m\u001b[38;5;250m \u001b[39m\u001b[38;5;21;01merr\u001b[39;00m\n\u001b[1;32m   3799\u001b[0m \u001b[38;5;28;01mexcept\u001b[39;00m \u001b[38;5;167;01mTypeError\u001b[39;00m:\n\u001b[1;32m   3800\u001b[0m     \u001b[38;5;66;03m# If we have a listlike key, _check_indexing_error will raise\u001b[39;00m\n\u001b[1;32m   3801\u001b[0m     \u001b[38;5;66;03m#  InvalidIndexError. Otherwise we fall through and re-raise\u001b[39;00m\n\u001b[1;32m   3802\u001b[0m     \u001b[38;5;66;03m#  the TypeError.\u001b[39;00m\n\u001b[1;32m   3803\u001b[0m     \u001b[38;5;28mself\u001b[39m\u001b[38;5;241m.\u001b[39m_check_indexing_error(key)\n",
      "\u001b[0;31mKeyError\u001b[0m: 'fold'"
     ]
    }
   ],
   "source": [
    "stacking_model = LGBMRegressor(verbose=-1)\n",
    "train_stack_with_feature_selection(stacking_model, df_stack21,\n",
    "                                   save_to='stacking_models/stack-lgb-train2-data1')"
   ]
  },
  {
   "cell_type": "code",
   "execution_count": 9,
   "id": "0403959b",
   "metadata": {},
   "outputs": [],
   "source": [
    "# Shutting up XGBoost\n",
    "\n",
    "import sys\n",
    "import re\n",
    "\n",
    "class FilteredStream:\n",
    "    def __init__(self, stream, pattern):\n",
    "        self.stream = stream\n",
    "        self.pattern = re.compile(pattern)\n",
    "        self.buffer = ''\n",
    "\n",
    "    def write(self, text):\n",
    "        self.buffer += text\n",
    "        lines = self.buffer.splitlines(True)\n",
    "        for line in lines:\n",
    "            if line.endswith('\\n'):\n",
    "                if not self.pattern.search(line):\n",
    "                    self.stream.write(line)\n",
    "            else:\n",
    "                self.buffer = line\n",
    "                break\n",
    "        else:\n",
    "            self.buffer = ''\n",
    "\n",
    "    def flush(self):\n",
    "        if self.buffer:\n",
    "            if not self.pattern.search(self.buffer):\n",
    "                self.stream.write(self.buffer)\n",
    "            self.buffer = ''\n",
    "        self.stream.flush()\n",
    "\n",
    "    def __getattr__(self, attr):\n",
    "        return getattr(self.stream, attr)\n",
    "\n",
    "# Define the fucking pattern to kill\n",
    "pattern = r'\\[\\d+\\]\\s+validation_0-rmse:\\d+\\.\\d+'\n",
    "\n",
    "# Save the original streams\n",
    "original_stdout = sys.stdout\n",
    "original_stderr = sys.stderr\n",
    "\n",
    "# Set the filtered streams\n",
    "sys.stdout = FilteredStream(original_stdout, pattern)\n",
    "sys.stderr = FilteredStream(original_stderr, pattern)"
   ]
  },
  {
   "cell_type": "code",
   "execution_count": 10,
   "id": "a6d923e8",
   "metadata": {},
   "outputs": [
    {
     "name": "stdout",
     "output_type": "stream",
     "text": [
      "▶ Running baseline 5-fold CV on all features …\n",
      "Baseline mean QWK: 0.9148\n",
      "\n",
      "▶ Testing removal of each model …\n"
     ]
    },
    {
     "data": {
      "application/vnd.jupyter.widget-view+json": {
       "model_id": "013be21fd9a142cc9c5ef957433dbf88",
       "version_major": 2,
       "version_minor": 0
      },
      "text/plain": [
       "Models:   0%|          | 0/3 [00:00<?, ?it/s]"
      ]
     },
     "metadata": {},
     "output_type": "display_data"
    },
    {
     "name": "stdout",
     "output_type": "stream",
     "text": [
      "  Removing convnext     → mean QWK = 0.9031\n",
      "  Removing effnet       → mean QWK = 0.9167\n",
      "  Removing resnet       → mean QWK = 0.9139\n",
      "\n",
      "✔ Eliminating model 'effnet' improved QWK: 0.9148 → 0.9167\n",
      "\n",
      "▶ Testing removal of each model …\n"
     ]
    },
    {
     "data": {
      "application/vnd.jupyter.widget-view+json": {
       "model_id": "8a7838c282af4828980dce09cc538825",
       "version_major": 2,
       "version_minor": 0
      },
      "text/plain": [
       "Models:   0%|          | 0/2 [00:00<?, ?it/s]"
      ]
     },
     "metadata": {},
     "output_type": "display_data"
    },
    {
     "name": "stdout",
     "output_type": "stream",
     "text": [
      "  Removing convnext     → mean QWK = 0.8986\n",
      "  Removing resnet       → mean QWK = 0.9112\n",
      "\n",
      "— No single-model removal improved QWK. Elimination complete.\n",
      "\n",
      "▶ Training final 5-fold models on features from: ['convnext', 'resnet']\n",
      "Final mean QWK: 0.9167\n",
      "\n",
      "✔ Saved fold 1 model to 'stacking_models/stack-xgb-train2-data1-fold1.pkl'\n",
      "✔ Saved fold 2 model to 'stacking_models/stack-xgb-train2-data1-fold2.pkl'\n",
      "✔ Saved fold 3 model to 'stacking_models/stack-xgb-train2-data1-fold3.pkl'\n",
      "✔ Saved fold 4 model to 'stacking_models/stack-xgb-train2-data1-fold4.pkl'\n",
      "✔ Saved fold 5 model to 'stacking_models/stack-xgb-train2-data1-fold5.pkl'\n"
     ]
    }
   ],
   "source": [
    "stacking_model = XGBRegressor(verbosity=0, device='gpu',\n",
    "                              n_estimators=1000, early_stopping_rounds=100)\n",
    "                            #   learning_rate=0.05)\n",
    "train_stack_with_feature_selection(stacking_model, df_stack21,\n",
    "                                   save_to='stacking_models/stack-xgb-train2-data1')"
   ]
  },
  {
   "cell_type": "code",
   "execution_count": 11,
   "id": "c1428e9a",
   "metadata": {},
   "outputs": [
    {
     "name": "stdout",
     "output_type": "stream",
     "text": [
      "▶ Running baseline 5-fold CV on all features …\n",
      "Baseline mean QWK: 0.9198\n",
      "\n",
      "▶ Testing removal of each model …\n"
     ]
    },
    {
     "data": {
      "application/vnd.jupyter.widget-view+json": {
       "model_id": "aa9e4586c4eb4ea58280953a2ccf020f",
       "version_major": 2,
       "version_minor": 0
      },
      "text/plain": [
       "Models:   0%|          | 0/3 [00:00<?, ?it/s]"
      ]
     },
     "metadata": {},
     "output_type": "display_data"
    },
    {
     "name": "stdout",
     "output_type": "stream",
     "text": [
      "  Removing convnext     → mean QWK = 0.9058\n",
      "  Removing effnet       → mean QWK = 0.9212\n",
      "  Removing resnet       → mean QWK = 0.9195\n",
      "\n",
      "✔ Eliminating model 'effnet' improved QWK: 0.9198 → 0.9212\n",
      "\n",
      "▶ Testing removal of each model …\n"
     ]
    },
    {
     "data": {
      "application/vnd.jupyter.widget-view+json": {
       "model_id": "daaa79f66ffe4d3fad4f4f55cb0f0540",
       "version_major": 2,
       "version_minor": 0
      },
      "text/plain": [
       "Models:   0%|          | 0/2 [00:00<?, ?it/s]"
      ]
     },
     "metadata": {},
     "output_type": "display_data"
    },
    {
     "name": "stdout",
     "output_type": "stream",
     "text": [
      "  Removing convnext     → mean QWK = 0.9004\n",
      "  Removing resnet       → mean QWK = 0.9164\n",
      "\n",
      "— No single-model removal improved QWK. Elimination complete.\n",
      "\n",
      "▶ Training final 5-fold models on features from: ['convnext', 'resnet']\n",
      "Final mean QWK: 0.9212\n",
      "\n",
      "✔ Saved fold 1 model to 'stacking_models/stack-cb_gpu-train2-data1-fold1.pkl'\n",
      "✔ Saved fold 2 model to 'stacking_models/stack-cb_gpu-train2-data1-fold2.pkl'\n",
      "✔ Saved fold 3 model to 'stacking_models/stack-cb_gpu-train2-data1-fold3.pkl'\n",
      "✔ Saved fold 4 model to 'stacking_models/stack-cb_gpu-train2-data1-fold4.pkl'\n",
      "✔ Saved fold 5 model to 'stacking_models/stack-cb_gpu-train2-data1-fold5.pkl'\n"
     ]
    }
   ],
   "source": [
    "stacking_model = CatBoostRegressor(task_type='GPU',\n",
    "                                   iterations=5000, early_stopping_rounds=100,\n",
    "                                   use_best_model=True,\n",
    "                                   verbose=0)\n",
    "train_stack_with_feature_selection(stacking_model, df_stack21,\n",
    "                                   save_to='stacking_models/stack-cb_gpu-train2-data1')"
   ]
  },
  {
   "cell_type": "code",
   "execution_count": 12,
   "id": "a45e8705",
   "metadata": {},
   "outputs": [
    {
     "name": "stdout",
     "output_type": "stream",
     "text": [
      "▶ Running baseline 5-fold CV on all features …\n",
      "Baseline mean QWK: 0.9249\n",
      "\n",
      "▶ Testing removal of each model …\n"
     ]
    },
    {
     "data": {
      "application/vnd.jupyter.widget-view+json": {
       "model_id": "629c1432f7534187a470dac1fdf0c004",
       "version_major": 2,
       "version_minor": 0
      },
      "text/plain": [
       "Models:   0%|          | 0/3 [00:00<?, ?it/s]"
      ]
     },
     "metadata": {},
     "output_type": "display_data"
    },
    {
     "name": "stdout",
     "output_type": "stream",
     "text": [
      "  Removing convnext     → mean QWK = 0.9095\n",
      "  Removing effnet       → mean QWK = 0.9229\n",
      "  Removing resnet       → mean QWK = 0.9204\n",
      "\n",
      "— No single-model removal improved QWK. Elimination complete.\n",
      "\n",
      "▶ Training final 5-fold models on features from: ['convnext', 'effnet', 'resnet']\n",
      "Final mean QWK: 0.9249\n",
      "\n",
      "✔ Saved fold 1 model to 'stacking_models/stack-tabpfn-train2-data1-fold1.pkl'\n",
      "✔ Saved fold 2 model to 'stacking_models/stack-tabpfn-train2-data1-fold2.pkl'\n",
      "✔ Saved fold 3 model to 'stacking_models/stack-tabpfn-train2-data1-fold3.pkl'\n",
      "✔ Saved fold 4 model to 'stacking_models/stack-tabpfn-train2-data1-fold4.pkl'\n",
      "✔ Saved fold 5 model to 'stacking_models/stack-tabpfn-train2-data1-fold5.pkl'\n"
     ]
    }
   ],
   "source": [
    "stacking_model = TabPFNRegressor()\n",
    "train_stack_with_feature_selection(stacking_model, df_stack21, no_eval=True,\n",
    "                                   save_to='stacking_models/stack-tabpfn-train2-data1')"
   ]
  },
  {
   "cell_type": "markdown",
   "id": "adb304db",
   "metadata": {},
   "source": [
    "## 2015 fine-tuned on 2019"
   ]
  },
  {
   "cell_type": "code",
   "execution_count": 7,
   "id": "694fceef",
   "metadata": {},
   "outputs": [
    {
     "name": "stdout",
     "output_type": "stream",
     "text": [
      "▶ Running baseline 5-fold CV on all features …\n",
      "Baseline mean QWK: 0.9179\n",
      "\n",
      "▶ Testing removal of each model …\n"
     ]
    },
    {
     "data": {
      "application/vnd.jupyter.widget-view+json": {
       "model_id": "e46f60a785174b52b6e4a5314597e6f3",
       "version_major": 2,
       "version_minor": 0
      },
      "text/plain": [
       "Models:   0%|          | 0/3 [00:00<?, ?it/s]"
      ]
     },
     "metadata": {},
     "output_type": "display_data"
    },
    {
     "name": "stdout",
     "output_type": "stream",
     "text": [
      "  Removing convnext     → mean QWK = 0.9109\n",
      "  Removing effnet       → mean QWK = 0.9220\n",
      "  Removing resnet       → mean QWK = 0.9140\n",
      "\n",
      "✔ Eliminating model 'effnet' improved QWK: 0.9179 → 0.9220\n",
      "\n",
      "▶ Testing removal of each model …\n"
     ]
    },
    {
     "data": {
      "application/vnd.jupyter.widget-view+json": {
       "model_id": "47252af3468c40ac80b5373b9a4af67c",
       "version_major": 2,
       "version_minor": 0
      },
      "text/plain": [
       "Models:   0%|          | 0/2 [00:00<?, ?it/s]"
      ]
     },
     "metadata": {},
     "output_type": "display_data"
    },
    {
     "name": "stdout",
     "output_type": "stream",
     "text": [
      "  Removing convnext     → mean QWK = 0.9071\n",
      "  Removing resnet       → mean QWK = 0.9197\n",
      "\n",
      "— No single-model removal improved QWK. Elimination complete.\n",
      "\n",
      "▶ Training final 5-fold models on features from: ['convnext', 'resnet']\n",
      "Final mean QWK: 0.9220\n",
      "\n",
      "✔ Saved fold 1 model to 'stacking_models/stack-lgb-train2-dyn1-fold1.pkl'\n",
      "✔ Saved fold 2 model to 'stacking_models/stack-lgb-train2-dyn1-fold2.pkl'\n",
      "✔ Saved fold 3 model to 'stacking_models/stack-lgb-train2-dyn1-fold3.pkl'\n",
      "✔ Saved fold 4 model to 'stacking_models/stack-lgb-train2-dyn1-fold4.pkl'\n",
      "✔ Saved fold 5 model to 'stacking_models/stack-lgb-train2-dyn1-fold5.pkl'\n"
     ]
    }
   ],
   "source": [
    "stacking_model = LGBMRegressor(verbose=-1)\n",
    "train_stack_with_feature_selection(stacking_model, df_stack21,\n",
    "                                   save_to='stacking_models/stack-lgb-train2-dyn1')"
   ]
  },
  {
   "cell_type": "code",
   "execution_count": 8,
   "id": "e215e574",
   "metadata": {},
   "outputs": [],
   "source": [
    "# Shutting up XGBoost\n",
    "\n",
    "import sys\n",
    "import re\n",
    "\n",
    "class FilteredStream:\n",
    "    def __init__(self, stream, pattern):\n",
    "        self.stream = stream\n",
    "        self.pattern = re.compile(pattern)\n",
    "        self.buffer = ''\n",
    "\n",
    "    def write(self, text):\n",
    "        self.buffer += text\n",
    "        lines = self.buffer.splitlines(True)\n",
    "        for line in lines:\n",
    "            if line.endswith('\\n'):\n",
    "                if not self.pattern.search(line):\n",
    "                    self.stream.write(line)\n",
    "            else:\n",
    "                self.buffer = line\n",
    "                break\n",
    "        else:\n",
    "            self.buffer = ''\n",
    "\n",
    "    def flush(self):\n",
    "        if self.buffer:\n",
    "            if not self.pattern.search(self.buffer):\n",
    "                self.stream.write(self.buffer)\n",
    "            self.buffer = ''\n",
    "        self.stream.flush()\n",
    "\n",
    "    def __getattr__(self, attr):\n",
    "        return getattr(self.stream, attr)\n",
    "\n",
    "# Define the fucking pattern to kill\n",
    "pattern = r'\\[\\d+\\]\\s+validation_0-rmse:\\d+\\.\\d+'\n",
    "\n",
    "# Save the original streams\n",
    "original_stdout = sys.stdout\n",
    "original_stderr = sys.stderr\n",
    "\n",
    "# Set the filtered streams\n",
    "sys.stdout = FilteredStream(original_stdout, pattern)\n",
    "sys.stderr = FilteredStream(original_stderr, pattern)"
   ]
  },
  {
   "cell_type": "code",
   "execution_count": 9,
   "id": "316cb578",
   "metadata": {},
   "outputs": [
    {
     "name": "stdout",
     "output_type": "stream",
     "text": [
      "▶ Running baseline 5-fold CV on all features …\n",
      "Baseline mean QWK: 0.9331\n",
      "\n",
      "▶ Testing removal of each model …\n"
     ]
    },
    {
     "data": {
      "application/vnd.jupyter.widget-view+json": {
       "model_id": "0c342c05c1ad4c27965ac3e876a0f353",
       "version_major": 2,
       "version_minor": 0
      },
      "text/plain": [
       "Models:   0%|          | 0/6 [00:00<?, ?it/s]"
      ]
     },
     "metadata": {},
     "output_type": "display_data"
    },
    {
     "name": "stdout",
     "output_type": "stream",
     "text": [
      "  Removing convnext     → mean QWK = 0.9313\n",
      "  Removing effnet       → mean QWK = 0.9317\n",
      "  Removing effnet-o     → mean QWK = 0.9275\n",
      "  Removing effnet-p     → mean QWK = 0.9262\n",
      "  Removing resnet       → mean QWK = 0.9286\n",
      "  Removing resnet-r     → mean QWK = 0.9374\n",
      "\n",
      "✔ Eliminating model 'resnet-r' improved QWK: 0.9331 → 0.9374\n",
      "\n",
      "▶ Testing removal of each model …\n"
     ]
    },
    {
     "data": {
      "application/vnd.jupyter.widget-view+json": {
       "model_id": "d53aca14992c4655a856b5abd7f7844b",
       "version_major": 2,
       "version_minor": 0
      },
      "text/plain": [
       "Models:   0%|          | 0/5 [00:00<?, ?it/s]"
      ]
     },
     "metadata": {},
     "output_type": "display_data"
    },
    {
     "name": "stdout",
     "output_type": "stream",
     "text": [
      "  Removing convnext     → mean QWK = 0.9275\n",
      "  Removing effnet       → mean QWK = 0.9334\n",
      "  Removing effnet-o     → mean QWK = 0.9289\n",
      "  Removing effnet-p     → mean QWK = 0.9280\n",
      "  Removing resnet       → mean QWK = 0.9311\n",
      "\n",
      "— No single-model removal improved QWK. Elimination complete.\n",
      "\n",
      "▶ Training final 5-fold models on features from: ['convnext', 'effnet', 'effnet-o', 'effnet-p', 'resnet']\n",
      "Final mean QWK: 0.9374\n",
      "\n",
      "✔ Saved fold 1 model to 'stacking_models/stack-xgb-train2-shrunk1_all-fold1.pkl'\n",
      "✔ Saved fold 2 model to 'stacking_models/stack-xgb-train2-shrunk1_all-fold2.pkl'\n",
      "✔ Saved fold 3 model to 'stacking_models/stack-xgb-train2-shrunk1_all-fold3.pkl'\n",
      "✔ Saved fold 4 model to 'stacking_models/stack-xgb-train2-shrunk1_all-fold4.pkl'\n",
      "✔ Saved fold 5 model to 'stacking_models/stack-xgb-train2-shrunk1_all-fold5.pkl'\n"
     ]
    }
   ],
   "source": [
    "stacking_model = XGBRegressor(verbosity=0, device='gpu',\n",
    "                              n_estimators=1000, early_stopping_rounds=100)\n",
    "                            #   learning_rate=0.05)\n",
    "train_stack_with_feature_selection(stacking_model, df_stack21,\n",
    "                                   save_to='stacking_models/stack-xgb-train2-shrunk1_all')"
   ]
  },
  {
   "cell_type": "code",
   "execution_count": 10,
   "id": "c9f60c63",
   "metadata": {},
   "outputs": [
    {
     "name": "stdout",
     "output_type": "stream",
     "text": [
      "▶ Running baseline 5-fold CV on all features …\n",
      "Baseline mean QWK: 0.9398\n",
      "\n",
      "▶ Testing removal of each model …\n"
     ]
    },
    {
     "data": {
      "application/vnd.jupyter.widget-view+json": {
       "model_id": "96b588256cad4fda87030b304ae556f9",
       "version_major": 2,
       "version_minor": 0
      },
      "text/plain": [
       "Models:   0%|          | 0/6 [00:00<?, ?it/s]"
      ]
     },
     "metadata": {},
     "output_type": "display_data"
    },
    {
     "name": "stdout",
     "output_type": "stream",
     "text": [
      "  Removing convnext     → mean QWK = 0.9401\n",
      "  Removing effnet       → mean QWK = 0.9403\n",
      "  Removing effnet-o     → mean QWK = 0.9371\n",
      "  Removing effnet-p     → mean QWK = 0.9382\n",
      "  Removing resnet       → mean QWK = 0.9398\n",
      "  Removing resnet-r     → mean QWK = 0.9396\n",
      "\n",
      "✔ Eliminating model 'effnet' improved QWK: 0.9398 → 0.9403\n",
      "\n",
      "▶ Testing removal of each model …\n"
     ]
    },
    {
     "data": {
      "application/vnd.jupyter.widget-view+json": {
       "model_id": "5dcbb79d28684edba5b5ecaaab622ee1",
       "version_major": 2,
       "version_minor": 0
      },
      "text/plain": [
       "Models:   0%|          | 0/5 [00:00<?, ?it/s]"
      ]
     },
     "metadata": {},
     "output_type": "display_data"
    },
    {
     "name": "stdout",
     "output_type": "stream",
     "text": [
      "  Removing convnext     → mean QWK = 0.9398\n",
      "  Removing effnet-o     → mean QWK = 0.9398\n",
      "  Removing effnet-p     → mean QWK = 0.9387\n",
      "  Removing resnet       → mean QWK = 0.9404\n",
      "  Removing resnet-r     → mean QWK = 0.9401\n",
      "\n",
      "✔ Eliminating model 'resnet' improved QWK: 0.9403 → 0.9404\n",
      "\n",
      "▶ Testing removal of each model …\n"
     ]
    },
    {
     "data": {
      "application/vnd.jupyter.widget-view+json": {
       "model_id": "df540ae0256f4ad0b5e028c30952bfdb",
       "version_major": 2,
       "version_minor": 0
      },
      "text/plain": [
       "Models:   0%|          | 0/4 [00:00<?, ?it/s]"
      ]
     },
     "metadata": {},
     "output_type": "display_data"
    },
    {
     "name": "stdout",
     "output_type": "stream",
     "text": [
      "  Removing convnext     → mean QWK = 0.9414\n",
      "  Removing effnet-o     → mean QWK = 0.9407\n",
      "  Removing effnet-p     → mean QWK = 0.9377\n",
      "  Removing resnet-r     → mean QWK = 0.9395\n",
      "\n",
      "✔ Eliminating model 'convnext' improved QWK: 0.9404 → 0.9414\n",
      "\n",
      "▶ Testing removal of each model …\n"
     ]
    },
    {
     "data": {
      "application/vnd.jupyter.widget-view+json": {
       "model_id": "d56ec63fbdab4c53957c3e4d2e981cb6",
       "version_major": 2,
       "version_minor": 0
      },
      "text/plain": [
       "Models:   0%|          | 0/3 [00:00<?, ?it/s]"
      ]
     },
     "metadata": {},
     "output_type": "display_data"
    },
    {
     "ename": "KeyboardInterrupt",
     "evalue": "",
     "output_type": "error",
     "traceback": [
      "\u001b[0;31m---------------------------------------------------------------------------\u001b[0m",
      "\u001b[0;31mKeyboardInterrupt\u001b[0m                         Traceback (most recent call last)",
      "Cell \u001b[0;32mIn[10], line 5\u001b[0m\n\u001b[1;32m      1\u001b[0m stacking_model \u001b[38;5;241m=\u001b[39m CatBoostRegressor(task_type\u001b[38;5;241m=\u001b[39m\u001b[38;5;124m'\u001b[39m\u001b[38;5;124mGPU\u001b[39m\u001b[38;5;124m'\u001b[39m,\n\u001b[1;32m      2\u001b[0m                                    iterations\u001b[38;5;241m=\u001b[39m\u001b[38;5;241m5000\u001b[39m, early_stopping_rounds\u001b[38;5;241m=\u001b[39m\u001b[38;5;241m100\u001b[39m,\n\u001b[1;32m      3\u001b[0m                                    use_best_model\u001b[38;5;241m=\u001b[39m\u001b[38;5;28;01mTrue\u001b[39;00m,\n\u001b[1;32m      4\u001b[0m                                    verbose\u001b[38;5;241m=\u001b[39m\u001b[38;5;241m0\u001b[39m)\n\u001b[0;32m----> 5\u001b[0m \u001b[43mtrain_stack_with_feature_selection\u001b[49m\u001b[43m(\u001b[49m\u001b[43mstacking_model\u001b[49m\u001b[43m,\u001b[49m\u001b[43m \u001b[49m\u001b[43mdf_stack21\u001b[49m\u001b[43m,\u001b[49m\n\u001b[1;32m      6\u001b[0m \u001b[43m                                   \u001b[49m\u001b[43msave_to\u001b[49m\u001b[38;5;241;43m=\u001b[39;49m\u001b[38;5;124;43m'\u001b[39;49m\u001b[38;5;124;43mstacking_models/stack-cb_gpu-train2-shrunk1_all\u001b[39;49m\u001b[38;5;124;43m'\u001b[39;49m\u001b[43m)\u001b[49m\n",
      "Cell \u001b[0;32mIn[4], line 37\u001b[0m, in \u001b[0;36mtrain_stack_with_feature_selection\u001b[0;34m(stacking_model, df_stack, save_to, fit_kwargs, no_eval)\u001b[0m\n\u001b[1;32m     35\u001b[0m feat \u001b[38;5;241m=\u001b[39m [c \u001b[38;5;28;01mfor\u001b[39;00m c \u001b[38;5;129;01min\u001b[39;00m current_features \u001b[38;5;28;01mif\u001b[39;00m \u001b[38;5;129;01mnot\u001b[39;00m c\u001b[38;5;241m.\u001b[39mstartswith(m \u001b[38;5;241m+\u001b[39m \u001b[38;5;124m'\u001b[39m\u001b[38;5;124m_\u001b[39m\u001b[38;5;124m'\u001b[39m)]\n\u001b[1;32m     36\u001b[0m \u001b[38;5;66;03m# mean_qwk, _ = cv_score(feat, stacking_model, kf, num_classes)\u001b[39;00m\n\u001b[0;32m---> 37\u001b[0m mean_qwk, _ \u001b[38;5;241m=\u001b[39m \u001b[43mcv_score\u001b[49m\u001b[43m(\u001b[49m\u001b[43mfeat\u001b[49m\u001b[43m,\u001b[49m\u001b[43m \u001b[49m\u001b[43mstacking_model\u001b[49m\u001b[43m,\u001b[49m\u001b[43m \u001b[49m\u001b[43mdf_stack\u001b[49m\u001b[43m,\u001b[49m\u001b[43m \u001b[49m\u001b[43mnum_classes\u001b[49m\u001b[43m,\u001b[49m\n\u001b[1;32m     38\u001b[0m \u001b[43m                       \u001b[49m\u001b[43mfit_kwargs\u001b[49m\u001b[43m,\u001b[49m\u001b[43m \u001b[49m\u001b[43mno_eval\u001b[49m\u001b[43m)\u001b[49m\n\u001b[1;32m     39\u001b[0m removal_results[m] \u001b[38;5;241m=\u001b[39m mean_qwk\n\u001b[1;32m     40\u001b[0m \u001b[38;5;28mprint\u001b[39m(\u001b[38;5;124mf\u001b[39m\u001b[38;5;124m\"\u001b[39m\u001b[38;5;124m  Removing \u001b[39m\u001b[38;5;132;01m{\u001b[39;00mm\u001b[38;5;132;01m:\u001b[39;00m\u001b[38;5;124m12\u001b[39m\u001b[38;5;132;01m}\u001b[39;00m\u001b[38;5;124m → mean QWK = \u001b[39m\u001b[38;5;132;01m{\u001b[39;00mmean_qwk\u001b[38;5;132;01m:\u001b[39;00m\u001b[38;5;124m.4f\u001b[39m\u001b[38;5;132;01m}\u001b[39;00m\u001b[38;5;124m\"\u001b[39m)\n",
      "Cell \u001b[0;32mIn[3], line 26\u001b[0m, in \u001b[0;36mcv_score\u001b[0;34m(feature_columns, model_, df, num_classes, fit_kwargs, no_eval)\u001b[0m\n\u001b[1;32m     24\u001b[0m     model\u001b[38;5;241m.\u001b[39mfit(X_tr, y_tr, \u001b[38;5;241m*\u001b[39m\u001b[38;5;241m*\u001b[39mfit_kwargs)\n\u001b[1;32m     25\u001b[0m \u001b[38;5;28;01melse\u001b[39;00m:\n\u001b[0;32m---> 26\u001b[0m     \u001b[43mmodel\u001b[49m\u001b[38;5;241;43m.\u001b[39;49m\u001b[43mfit\u001b[49m\u001b[43m(\u001b[49m\u001b[43mX_tr\u001b[49m\u001b[43m,\u001b[49m\u001b[43m \u001b[49m\u001b[43my_tr\u001b[49m\u001b[43m,\u001b[49m\u001b[43m \u001b[49m\u001b[43meval_set\u001b[49m\u001b[38;5;241;43m=\u001b[39;49m\u001b[43m[\u001b[49m\u001b[43m(\u001b[49m\u001b[43mX_te\u001b[49m\u001b[43m,\u001b[49m\u001b[43m \u001b[49m\u001b[43my_te\u001b[49m\u001b[43m)\u001b[49m\u001b[43m]\u001b[49m\u001b[43m,\u001b[49m\u001b[43m \u001b[49m\u001b[38;5;241;43m*\u001b[39;49m\u001b[38;5;241;43m*\u001b[39;49m\u001b[43mfit_kwargs\u001b[49m\u001b[43m)\u001b[49m\n\u001b[1;32m     28\u001b[0m preds \u001b[38;5;241m=\u001b[39m model\u001b[38;5;241m.\u001b[39mpredict(X_te)\n\u001b[1;32m     29\u001b[0m preds_int \u001b[38;5;241m=\u001b[39m np\u001b[38;5;241m.\u001b[39mclip(np\u001b[38;5;241m.\u001b[39mrint(preds), \u001b[38;5;241m0\u001b[39m, num_classes\u001b[38;5;241m-\u001b[39m\u001b[38;5;241m1\u001b[39m)\u001b[38;5;241m.\u001b[39mastype(\u001b[38;5;28mint\u001b[39m)\n",
      "File \u001b[0;32m~/miniconda3/envs/causal-dl-torch/lib/python3.12/site-packages/catboost/core.py:5873\u001b[0m, in \u001b[0;36mCatBoostRegressor.fit\u001b[0;34m(self, X, y, cat_features, text_features, embedding_features, graph, sample_weight, baseline, use_best_model, eval_set, verbose, logging_level, plot, plot_file, column_description, verbose_eval, metric_period, silent, early_stopping_rounds, save_snapshot, snapshot_file, snapshot_interval, init_model, callbacks, log_cout, log_cerr)\u001b[0m\n\u001b[1;32m   5871\u001b[0m \u001b[38;5;28;01mif\u001b[39;00m \u001b[38;5;124m'\u001b[39m\u001b[38;5;124mloss_function\u001b[39m\u001b[38;5;124m'\u001b[39m \u001b[38;5;129;01min\u001b[39;00m params:\n\u001b[1;32m   5872\u001b[0m     CatBoostRegressor\u001b[38;5;241m.\u001b[39m_check_is_compatible_loss(params[\u001b[38;5;124m'\u001b[39m\u001b[38;5;124mloss_function\u001b[39m\u001b[38;5;124m'\u001b[39m])\n\u001b[0;32m-> 5873\u001b[0m \u001b[38;5;28;01mreturn\u001b[39;00m \u001b[38;5;28;43mself\u001b[39;49m\u001b[38;5;241;43m.\u001b[39;49m\u001b[43m_fit\u001b[49m\u001b[43m(\u001b[49m\u001b[43mX\u001b[49m\u001b[43m,\u001b[49m\u001b[43m \u001b[49m\u001b[43my\u001b[49m\u001b[43m,\u001b[49m\u001b[43m \u001b[49m\u001b[43mcat_features\u001b[49m\u001b[43m,\u001b[49m\u001b[43m \u001b[49m\u001b[43mtext_features\u001b[49m\u001b[43m,\u001b[49m\u001b[43m \u001b[49m\u001b[43membedding_features\u001b[49m\u001b[43m,\u001b[49m\u001b[43m \u001b[49m\u001b[38;5;28;43;01mNone\u001b[39;49;00m\u001b[43m,\u001b[49m\u001b[43m \u001b[49m\u001b[43mgraph\u001b[49m\u001b[43m,\u001b[49m\u001b[43m \u001b[49m\u001b[43msample_weight\u001b[49m\u001b[43m,\u001b[49m\u001b[43m \u001b[49m\u001b[38;5;28;43;01mNone\u001b[39;49;00m\u001b[43m,\u001b[49m\u001b[43m \u001b[49m\u001b[38;5;28;43;01mNone\u001b[39;49;00m\u001b[43m,\u001b[49m\u001b[43m \u001b[49m\u001b[38;5;28;43;01mNone\u001b[39;49;00m\u001b[43m,\u001b[49m\u001b[43m \u001b[49m\u001b[38;5;28;43;01mNone\u001b[39;49;00m\u001b[43m,\u001b[49m\u001b[43m \u001b[49m\u001b[43mbaseline\u001b[49m\u001b[43m,\u001b[49m\n\u001b[1;32m   5874\u001b[0m \u001b[43m                 \u001b[49m\u001b[43muse_best_model\u001b[49m\u001b[43m,\u001b[49m\u001b[43m \u001b[49m\u001b[43meval_set\u001b[49m\u001b[43m,\u001b[49m\u001b[43m \u001b[49m\u001b[43mverbose\u001b[49m\u001b[43m,\u001b[49m\u001b[43m \u001b[49m\u001b[43mlogging_level\u001b[49m\u001b[43m,\u001b[49m\u001b[43m \u001b[49m\u001b[43mplot\u001b[49m\u001b[43m,\u001b[49m\u001b[43m \u001b[49m\u001b[43mplot_file\u001b[49m\u001b[43m,\u001b[49m\u001b[43m \u001b[49m\u001b[43mcolumn_description\u001b[49m\u001b[43m,\u001b[49m\n\u001b[1;32m   5875\u001b[0m \u001b[43m                 \u001b[49m\u001b[43mverbose_eval\u001b[49m\u001b[43m,\u001b[49m\u001b[43m \u001b[49m\u001b[43mmetric_period\u001b[49m\u001b[43m,\u001b[49m\u001b[43m \u001b[49m\u001b[43msilent\u001b[49m\u001b[43m,\u001b[49m\u001b[43m \u001b[49m\u001b[43mearly_stopping_rounds\u001b[49m\u001b[43m,\u001b[49m\n\u001b[1;32m   5876\u001b[0m \u001b[43m                 \u001b[49m\u001b[43msave_snapshot\u001b[49m\u001b[43m,\u001b[49m\u001b[43m \u001b[49m\u001b[43msnapshot_file\u001b[49m\u001b[43m,\u001b[49m\u001b[43m \u001b[49m\u001b[43msnapshot_interval\u001b[49m\u001b[43m,\u001b[49m\u001b[43m \u001b[49m\u001b[43minit_model\u001b[49m\u001b[43m,\u001b[49m\u001b[43m \u001b[49m\u001b[43mcallbacks\u001b[49m\u001b[43m,\u001b[49m\u001b[43m \u001b[49m\u001b[43mlog_cout\u001b[49m\u001b[43m,\u001b[49m\u001b[43m \u001b[49m\u001b[43mlog_cerr\u001b[49m\u001b[43m)\u001b[49m\n",
      "File \u001b[0;32m~/miniconda3/envs/causal-dl-torch/lib/python3.12/site-packages/catboost/core.py:2410\u001b[0m, in \u001b[0;36mCatBoost._fit\u001b[0;34m(self, X, y, cat_features, text_features, embedding_features, pairs, graph, sample_weight, group_id, group_weight, subgroup_id, pairs_weight, baseline, use_best_model, eval_set, verbose, logging_level, plot, plot_file, column_description, verbose_eval, metric_period, silent, early_stopping_rounds, save_snapshot, snapshot_file, snapshot_interval, init_model, callbacks, log_cout, log_cerr)\u001b[0m\n\u001b[1;32m   2407\u001b[0m allow_clear_pool \u001b[38;5;241m=\u001b[39m train_params[\u001b[38;5;124m\"\u001b[39m\u001b[38;5;124mallow_clear_pool\u001b[39m\u001b[38;5;124m\"\u001b[39m]\n\u001b[1;32m   2409\u001b[0m \u001b[38;5;28;01mwith\u001b[39;00m plot_wrapper(plot, plot_file, \u001b[38;5;124m'\u001b[39m\u001b[38;5;124mTraining plots\u001b[39m\u001b[38;5;124m'\u001b[39m, [_get_train_dir(\u001b[38;5;28mself\u001b[39m\u001b[38;5;241m.\u001b[39mget_params())]):\n\u001b[0;32m-> 2410\u001b[0m     \u001b[38;5;28;43mself\u001b[39;49m\u001b[38;5;241;43m.\u001b[39;49m\u001b[43m_train\u001b[49m\u001b[43m(\u001b[49m\n\u001b[1;32m   2411\u001b[0m \u001b[43m        \u001b[49m\u001b[43mtrain_pool\u001b[49m\u001b[43m,\u001b[49m\n\u001b[1;32m   2412\u001b[0m \u001b[43m        \u001b[49m\u001b[43mtrain_params\u001b[49m\u001b[43m[\u001b[49m\u001b[38;5;124;43m\"\u001b[39;49m\u001b[38;5;124;43meval_sets\u001b[39;49m\u001b[38;5;124;43m\"\u001b[39;49m\u001b[43m]\u001b[49m\u001b[43m,\u001b[49m\n\u001b[1;32m   2413\u001b[0m \u001b[43m        \u001b[49m\u001b[43mparams\u001b[49m\u001b[43m,\u001b[49m\n\u001b[1;32m   2414\u001b[0m \u001b[43m        \u001b[49m\u001b[43mallow_clear_pool\u001b[49m\u001b[43m,\u001b[49m\n\u001b[1;32m   2415\u001b[0m \u001b[43m        \u001b[49m\u001b[43mtrain_params\u001b[49m\u001b[43m[\u001b[49m\u001b[38;5;124;43m\"\u001b[39;49m\u001b[38;5;124;43minit_model\u001b[39;49m\u001b[38;5;124;43m\"\u001b[39;49m\u001b[43m]\u001b[49m\n\u001b[1;32m   2416\u001b[0m \u001b[43m    \u001b[49m\u001b[43m)\u001b[49m\n\u001b[1;32m   2418\u001b[0m \u001b[38;5;66;03m# Have property feature_importance possibly set\u001b[39;00m\n\u001b[1;32m   2419\u001b[0m loss \u001b[38;5;241m=\u001b[39m \u001b[38;5;28mself\u001b[39m\u001b[38;5;241m.\u001b[39m_object\u001b[38;5;241m.\u001b[39m_get_loss_function_name()\n",
      "File \u001b[0;32m~/miniconda3/envs/causal-dl-torch/lib/python3.12/site-packages/catboost/core.py:1790\u001b[0m, in \u001b[0;36m_CatBoostBase._train\u001b[0;34m(self, train_pool, test_pool, params, allow_clear_pool, init_model)\u001b[0m\n\u001b[1;32m   1789\u001b[0m \u001b[38;5;28;01mdef\u001b[39;00m\u001b[38;5;250m \u001b[39m\u001b[38;5;21m_train\u001b[39m(\u001b[38;5;28mself\u001b[39m, train_pool, test_pool, params, allow_clear_pool, init_model):\n\u001b[0;32m-> 1790\u001b[0m     \u001b[38;5;28;43mself\u001b[39;49m\u001b[38;5;241;43m.\u001b[39;49m\u001b[43m_object\u001b[49m\u001b[38;5;241;43m.\u001b[39;49m\u001b[43m_train\u001b[49m\u001b[43m(\u001b[49m\u001b[43mtrain_pool\u001b[49m\u001b[43m,\u001b[49m\u001b[43m \u001b[49m\u001b[43mtest_pool\u001b[49m\u001b[43m,\u001b[49m\u001b[43m \u001b[49m\u001b[43mparams\u001b[49m\u001b[43m,\u001b[49m\u001b[43m \u001b[49m\u001b[43mallow_clear_pool\u001b[49m\u001b[43m,\u001b[49m\u001b[43m \u001b[49m\u001b[43minit_model\u001b[49m\u001b[38;5;241;43m.\u001b[39;49m\u001b[43m_object\u001b[49m\u001b[43m \u001b[49m\u001b[38;5;28;43;01mif\u001b[39;49;00m\u001b[43m \u001b[49m\u001b[43minit_model\u001b[49m\u001b[43m \u001b[49m\u001b[38;5;28;43;01melse\u001b[39;49;00m\u001b[43m \u001b[49m\u001b[38;5;28;43;01mNone\u001b[39;49;00m\u001b[43m)\u001b[49m\n\u001b[1;32m   1791\u001b[0m     \u001b[38;5;28mself\u001b[39m\u001b[38;5;241m.\u001b[39m_set_trained_model_attributes()\n",
      "File \u001b[0;32m_catboost.pyx:5023\u001b[0m, in \u001b[0;36m_catboost._CatBoost._train\u001b[0;34m()\u001b[0m\n",
      "File \u001b[0;32m_catboost.pyx:5072\u001b[0m, in \u001b[0;36m_catboost._CatBoost._train\u001b[0;34m()\u001b[0m\n",
      "\u001b[0;31mKeyboardInterrupt\u001b[0m: "
     ]
    }
   ],
   "source": [
    "stacking_model = CatBoostRegressor(task_type='GPU',\n",
    "                                   iterations=5000, early_stopping_rounds=100,\n",
    "                                   use_best_model=True,\n",
    "                                   verbose=0)\n",
    "train_stack_with_feature_selection(stacking_model, df_stack21,\n",
    "                                   save_to='stacking_models/stack-cb_gpu-train2-shrunk1_all')"
   ]
  },
  {
   "cell_type": "code",
   "execution_count": 12,
   "id": "422522ba",
   "metadata": {},
   "outputs": [
    {
     "name": "stdout",
     "output_type": "stream",
     "text": [
      "▶ Running baseline 5-fold CV on all features …\n",
      "Baseline mean QWK: 0.9336\n",
      "\n",
      "▶ Testing removal of each model …\n"
     ]
    },
    {
     "data": {
      "application/vnd.jupyter.widget-view+json": {
       "model_id": "dc47f8c5f3414f42a66b78bb313114c6",
       "version_major": 2,
       "version_minor": 0
      },
      "text/plain": [
       "Models:   0%|          | 0/3 [00:00<?, ?it/s]"
      ]
     },
     "metadata": {},
     "output_type": "display_data"
    },
    {
     "name": "stdout",
     "output_type": "stream",
     "text": [
      "  Removing convnext     → mean QWK = 0.9260\n",
      "  Removing effnet       → mean QWK = 0.9361\n",
      "  Removing resnet       → mean QWK = 0.9339\n",
      "\n",
      "✔ Eliminating model 'effnet' improved QWK: 0.9336 → 0.9361\n",
      "\n",
      "▶ Testing removal of each model …\n"
     ]
    },
    {
     "data": {
      "application/vnd.jupyter.widget-view+json": {
       "model_id": "c47d524823c24ef3ac2612dddcafbab8",
       "version_major": 2,
       "version_minor": 0
      },
      "text/plain": [
       "Models:   0%|          | 0/2 [00:00<?, ?it/s]"
      ]
     },
     "metadata": {},
     "output_type": "display_data"
    },
    {
     "name": "stdout",
     "output_type": "stream",
     "text": [
      "  Removing convnext     → mean QWK = 0.9272\n",
      "  Removing resnet       → mean QWK = 0.9357\n",
      "\n",
      "— No single-model removal improved QWK. Elimination complete.\n",
      "\n",
      "▶ Training final 5-fold models on features from: ['convnext', 'resnet']\n",
      "Final mean QWK: 0.9361\n",
      "\n",
      "✔ Saved fold 1 model to 'stacking_models/stack-cb_cpu-train2-shrunk1-fold1.pkl'\n",
      "✔ Saved fold 2 model to 'stacking_models/stack-cb_cpu-train2-shrunk1-fold2.pkl'\n",
      "✔ Saved fold 3 model to 'stacking_models/stack-cb_cpu-train2-shrunk1-fold3.pkl'\n",
      "✔ Saved fold 4 model to 'stacking_models/stack-cb_cpu-train2-shrunk1-fold4.pkl'\n",
      "✔ Saved fold 5 model to 'stacking_models/stack-cb_cpu-train2-shrunk1-fold5.pkl'\n"
     ]
    }
   ],
   "source": [
    "stacking_model = CatBoostRegressor(iterations=5000, early_stopping_rounds=100,\n",
    "                                   use_best_model=True,\n",
    "                                   verbose=0)\n",
    "train_stack_with_feature_selection(stacking_model, df_stack21,\n",
    "                                   save_to='stacking_models/stack-cb_cpu-train2-shrunk1')"
   ]
  },
  {
   "cell_type": "code",
   "execution_count": 13,
   "id": "bf07e548",
   "metadata": {},
   "outputs": [
    {
     "name": "stdout",
     "output_type": "stream",
     "text": [
      "▶ Running baseline 5-fold CV on all features …\n",
      "Baseline mean QWK: 0.9332\n",
      "\n",
      "▶ Testing removal of each model …\n"
     ]
    },
    {
     "data": {
      "application/vnd.jupyter.widget-view+json": {
       "model_id": "0c4390cb94bd45e199a42d1421b46040",
       "version_major": 2,
       "version_minor": 0
      },
      "text/plain": [
       "Models:   0%|          | 0/3 [00:00<?, ?it/s]"
      ]
     },
     "metadata": {},
     "output_type": "display_data"
    },
    {
     "name": "stdout",
     "output_type": "stream",
     "text": [
      "  Removing convnext     → mean QWK = 0.9200\n",
      "  Removing effnet       → mean QWK = 0.9341\n",
      "  Removing resnet       → mean QWK = 0.9308\n",
      "\n",
      "✔ Eliminating model 'effnet' improved QWK: 0.9332 → 0.9341\n",
      "\n",
      "▶ Testing removal of each model …\n"
     ]
    },
    {
     "data": {
      "application/vnd.jupyter.widget-view+json": {
       "model_id": "1168eb773d5a459c8758455557abf7e3",
       "version_major": 2,
       "version_minor": 0
      },
      "text/plain": [
       "Models:   0%|          | 0/2 [00:00<?, ?it/s]"
      ]
     },
     "metadata": {},
     "output_type": "display_data"
    },
    {
     "name": "stdout",
     "output_type": "stream",
     "text": [
      "  Removing convnext     → mean QWK = 0.9234\n",
      "  Removing resnet       → mean QWK = 0.9314\n",
      "\n",
      "— No single-model removal improved QWK. Elimination complete.\n",
      "\n",
      "▶ Training final 5-fold models on features from: ['convnext', 'resnet']\n",
      "Final mean QWK: 0.9341\n",
      "\n",
      "✔ Saved fold 1 model to 'stacking_models/stack-tabpfn-train2-shrunk1-fold1.pkl'\n",
      "✔ Saved fold 2 model to 'stacking_models/stack-tabpfn-train2-shrunk1-fold2.pkl'\n",
      "✔ Saved fold 3 model to 'stacking_models/stack-tabpfn-train2-shrunk1-fold3.pkl'\n",
      "✔ Saved fold 4 model to 'stacking_models/stack-tabpfn-train2-shrunk1-fold4.pkl'\n",
      "✔ Saved fold 5 model to 'stacking_models/stack-tabpfn-train2-shrunk1-fold5.pkl'\n"
     ]
    }
   ],
   "source": [
    "stacking_model = TabPFNRegressor()\n",
    "train_stack_with_feature_selection(stacking_model, df_stack21, no_eval=True,\n",
    "                                   save_to='stacking_models/stack-tabpfn-train2-shrunk1')"
   ]
  },
  {
   "cell_type": "code",
   "execution_count": null,
   "id": "d6a6c834",
   "metadata": {},
   "outputs": [],
   "source": []
  }
 ],
 "metadata": {
  "kernelspec": {
   "display_name": "causal-dl-torch",
   "language": "python",
   "name": "python3"
  },
  "language_info": {
   "codemirror_mode": {
    "name": "ipython",
    "version": 3
   },
   "file_extension": ".py",
   "mimetype": "text/x-python",
   "name": "python",
   "nbconvert_exporter": "python",
   "pygments_lexer": "ipython3",
   "version": "3.12.8"
  }
 },
 "nbformat": 4,
 "nbformat_minor": 5
}
